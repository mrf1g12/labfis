{
  "metadata": {
    "kernelspec": {
      "name": "python",
      "display_name": "Python (Pyodide)",
      "language": "python"
    },
    "language_info": {
      "codemirror_mode": {
        "name": "python",
        "version": 3
      },
      "file_extension": ".py",
      "mimetype": "text/x-python",
      "name": "python",
      "nbconvert_exporter": "python",
      "pygments_lexer": "ipython3",
      "version": "3.8"
    },
    "widgets": {
      "application/vnd.jupyter.widget-state+json": {
        "state": {},
        "version_major": 2,
        "version_minor": 0
      }
    }
  },
  "nbformat_minor": 5,
  "nbformat": 4,
  "cells": [
    {
      "id": "d66b9af8-0385-466f-b675-a73f223066ac",
      "cell_type": "code",
      "source": "import numpy as np\n\nfrom scipy import optimize\nfrom scipy.stats import chi2, norm\n\nimport matplotlib.pyplot as plt\nimport matplotlib.cm as cm\nfrom matplotlib.ticker import (MultipleLocator, AutoMinorLocator)\n%matplotlib inline",
      "metadata": {
        "trusted": true
      },
      "outputs": [],
      "execution_count": null
    },
    {
      "id": "20976f8a-e623-4732-a7c8-695e12d49cad",
      "cell_type": "markdown",
      "source": "# Bontà del fit",
      "metadata": {}
    },
    {
      "id": "56320305-7d3d-4f7b-85ac-7a6340bfbe60",
      "cell_type": "code",
      "source": "theta,a,a_err = np.loadtxt('./data/oscillazione.csv',delimiter = ',', skiprows = 1,unpack=True)\ntheta_rad = theta*np.pi/180.",
      "metadata": {
        "trusted": true
      },
      "outputs": [],
      "execution_count": null
    },
    {
      "id": "acbef438-3ea0-4a57-949a-7dae618b38a4",
      "cell_type": "code",
      "source": "def f(theta,a0,b0,theta0):\n    return a0*np.cos(b0*(theta+theta0))",
      "metadata": {
        "trusted": true
      },
      "outputs": [],
      "execution_count": null
    },
    {
      "id": "b67c2420-fa73-4307-bfb1-07b65a5080c4",
      "cell_type": "code",
      "source": "params, covar = optimize.curve_fit(f,theta_rad,a,(4.,2.,0.),sigma=a_err)",
      "metadata": {
        "trusted": true
      },
      "outputs": [],
      "execution_count": null
    },
    {
      "id": "d7adb352-291e-4c53-a67b-e0da268b39c1",
      "cell_type": "code",
      "source": "tick_list = np.arange(0,7,1)*np.pi/2.\ntick_labels = ['0',r'$\\pi/2$',r'$\\pi$',r'$3\\pi/2$',r'$2\\pi$',r'$5\\pi/2$',r'$3\\pi$']",
      "metadata": {
        "trusted": true
      },
      "outputs": [],
      "execution_count": null
    },
    {
      "id": "7a8ccd83-1504-4878-99d8-a0cdfedb941e",
      "cell_type": "code",
      "source": "fig,ax = plt.subplots()\n\n## Plot dati e fit\n\nax.set_xticks(tick_list)\nax.set_xticklabels(tick_labels)\nax.xaxis.set_minor_locator(MultipleLocator(np.pi/4.))\nax.grid(axis='x')\n\nax.set_xlabel(r'$\\theta$ (rad)',fontsize=12)\nax.set_ylabel('$a$ (cm)',fontsize=12)\n\nax.errorbar(theta_rad,a,yerr=a_err,c='b',\n            ls='none',marker='o',ms=2,capsize = 3, capthick = 1,label='Dati')\n\ntheta_ran = np.arange(0,3*np.pi,0.05)\nax.plot(theta_ran,f(theta_ran,*params),c='r',label='Fit')\n\nax.legend(loc='best')",
      "metadata": {
        "trusted": true
      },
      "outputs": [],
      "execution_count": null
    },
    {
      "id": "d16fa85d-9ddb-4d84-956c-c5f422da8134",
      "cell_type": "markdown",
      "source": "## I residui",
      "metadata": {}
    },
    {
      "id": "6dfb8381-1257-41d2-ab29-28e38798990c",
      "cell_type": "markdown",
      "source": "Per ciascun punto sappiamo calcolare il **residuo ridotto**:\n$$\n\\overline{res}_i=\\frac{res_i}{\\sigma_i}=\\frac{a_i-f(\\theta_i)}{\\sigma_i}\n$$\nUn'indicazione globale di quanto la funzione si adatta bene ai dati può essere ottenuta dalla **somma dei residui** ridotti di tutti i punti:\n$$\n\\sum_{i=1}^n\\overline{res}_i=\\sum_{i=1}^n \\frac{a_i-f(\\theta_i)}{\\sigma_i}\n$$\nMeglio ancora, volendo grandezze tutte **positive**, possiamo sommare i **quadrati dei residui**:\n$$\n\\sum_{i=1}^n\\overline{res}^2_i=\\sum_{i=1}^n\\left[\\frac{a_i-f(\\theta_i)}{\\sigma_i}\\right]^2\n$$\nChe cosa possiamo dire dei valori ottenuti? Sono \"grandi\", \"piccoli\", \"giusti\"?",
      "metadata": {}
    },
    {
      "id": "6905192d-8949-47c9-af07-7c6016b2187b",
      "cell_type": "markdown",
      "source": "Concentriamoci su un punto dei dati e del fit",
      "metadata": {}
    },
    {
      "id": "bb33497a-47f4-4d22-9ff8-e0d9e7d1be27",
      "cell_type": "code",
      "source": "theta_exp = theta_rad[16]\na_exp = a[16]\na_err_exp = a_err[16]\na_theo = f(theta_exp,*params)",
      "metadata": {
        "trusted": true
      },
      "outputs": [],
      "execution_count": null
    },
    {
      "id": "9c3d8a6c-2d76-464b-9322-950a97d7fe1f",
      "cell_type": "code",
      "source": "fig,ax = plt.subplots()\n\n## Plot dati e fit\n\nax.set_xlim(np.pi-.1,4)\nax.set_ylim(2.5,6.5)\n\n#ax.set_xticks(tick_list)\n#ax.set_xticklabels(tick_labels)\nax.xaxis.set_minor_locator(MultipleLocator(np.pi/4.))\nax.grid(axis='x')\n\nax.set_xlabel(r'$\\theta$ (rad)',fontsize=12)\nax.set_ylabel('$a$ (cm)',fontsize=12)\n\nax.errorbar(theta_rad,a,yerr=a_err,c='b',\n            ls='none',marker='o',ms=5,capsize = 3, capthick = 1,label='Dati')\n\ntheta_ran = np.arange(3,4.1,0.01)\nax.plot(theta_ran,f(theta_ran,*params),c='r',lw=2,label='Fit')\nax.scatter(theta_exp,a_theo,c='purple',marker='x',s=60,lw=3,zorder=10)\n\nrect = plt.Rectangle((np.pi,3.5), width=.2, height=2.5, clip_on=False,transform=ax.transData,\n                     facecolor=\"none\",edgecolor='k',zorder=3)\nax.add_patch(rect)",
      "metadata": {
        "trusted": true
      },
      "outputs": [],
      "execution_count": null
    },
    {
      "id": "f8cf9b2e-2c9e-4191-b2e6-c8b02820037e",
      "cell_type": "markdown",
      "source": "## L'ipotesi nulla\nFacciamo l'**ipotesi** (ipotesi nulla, $H_0$) che il dato misurato sia ottenuto in maniera casuale da una distribuzione gaussiana centrata nel _valore teorico_ ottenuto dal fit e di deviazione standard pari alla deviazione standard del dato.",
      "metadata": {}
    },
    {
      "id": "f570363d-03a4-4db9-9aab-fb99332f5085",
      "cell_type": "code",
      "source": "fig,ax = plt.subplots()\n\nax.set_xlim(np.pi-.1,4)\nax.set_ylim(2.5,6.5)\n\n#ax.set_xticks(tick_list)\n#ax.set_xticklabels(tick_labels)\nax.xaxis.set_minor_locator(MultipleLocator(np.pi/4.))\nax.grid(axis='x')\n\nax.set_xlabel(r'$\\theta$ (rad)',fontsize=12)\nax.set_ylabel('$a$ (cm)',fontsize=12)\n\nax.errorbar(theta_rad,a,yerr=a_err,c='b',\n            ls='none',marker='o',ms=5,capsize = 3, capthick = 1,label='Dati')\n\nax.plot(theta_ran,f(theta_ran,*params),c='r',label='Fit')\nax.scatter(theta_exp,a_theo,c='purple',marker='x',s=60,lw=3,zorder=10)\n\n\n\nx1, x2, y1, y2 = np.pi,np.pi+0.2,3.5,6.  # subregion of the original image\naxins = ax.inset_axes([0.5, 0.1, 0.45, 0.65],\n    xlim=(x1, x2), ylim=(y1, y2), xticklabels=[], yticklabels=[])\nax.indicate_inset_zoom(axins, edgecolor=\"black\")\nrect = plt.Rectangle((0.49, 0.08), width=.45, height=.65, clip_on=False,transform=ax.transAxes,\n                     facecolor=\".2\",zorder=3)\nax.add_patch(rect)\n\naxins.set_xticks([])\naxins.set_yticks([])\n\n\naxins2 = axins.twiny()\naxins2.set_xticks([])\nxins2_min, xins2_max = x1-theta_exp,x2-theta_exp\naxins2.set_xlim(xins2_min, xins2_max)\naxins2.axvline(0.5,c='k',lw=1)\n#axins.errorbar(theta_rad,a,yerr=a_err,c='b',\n#            ls='none',marker='o',ms=2,capsize = 3, capthick = 1,label='Dati')\n\naxins.plot(theta_ran,f(theta_ran,*params),c='r',alpha=0.3)\n\n\n\nnormalize = xins2_max/norm.pdf(a_theo,a_theo,a_err_exp)/1.1\nyran = np.linspace(3.5,7,200)\naxins2.fill_betweenx(yran,norm.pdf(yran,a_theo,a_err_exp)*normalize,color='purple',\n                     alpha=0.2)\naxins2.plot(norm.pdf(yran,a_theo,a_err_exp)*normalize,yran,color='purple')\naxins2.axhline(a_theo,c='purple',zorder=-1)\n#axins2.axhline(a_exp,c='b',zorder=-1)\naxins2.axvline(0,c='k',lw=.5,zorder=-1)\n\naxins2.scatter(0,a_exp,c='b',zorder=2)\naxins2.scatter(0,a_theo,c='purple',marker='x',s=80,lw=3,zorder=10)\n\naxins2.annotate('',(norm.pdf(a_theo-a_err_exp,a_theo,a_err_exp)*normalize,a_theo-a_err_exp),\n               ((norm.pdf(a_theo+a_err_exp,a_theo,a_err_exp)*normalize),a_theo+a_err_exp),\n               arrowprops=dict(arrowstyle=\"|-|\",color='b',lw=1.5))",
      "metadata": {
        "trusted": true
      },
      "outputs": [],
      "execution_count": null
    },
    {
      "id": "de67d9e6-d917-4b35-ab22-34bf5ee8dd7c",
      "cell_type": "markdown",
      "source": "# Variabili $z$ e $\\chi^2$",
      "metadata": {}
    },
    {
      "id": "cd2e769d-c05b-4b1f-8d56-c9028b8baabc",
      "cell_type": "markdown",
      "source": "Estraiamo $n$ numeri casuali da una distribuzione gaussiana (normale) standard, di media $\\mu_x=0$ e deviazione standard $\\sigma_x=1$ ",
      "metadata": {}
    },
    {
      "id": "778cd030-4e69-4403-b570-9bc677765060",
      "cell_type": "code",
      "source": "n = 500\nnorm_data = np.random.normal(size=n)",
      "metadata": {
        "trusted": true
      },
      "outputs": [],
      "execution_count": null
    },
    {
      "id": "0f021184-d383-4865-a9fe-5bc5df6f7a0b",
      "cell_type": "markdown",
      "source": "Con `matplotlib` possiamo graficare il loro **istogramma**",
      "metadata": {}
    },
    {
      "id": "7b9ae957-73fa-4c2b-8f69-73128284fd57",
      "cell_type": "code",
      "source": "fig,ax = plt.subplots()\n\nax.set_xlabel('$x$',fontsize=12)\nax.set_ylabel('Freq.',fontsize=12)\n\nax.hist(norm_data,bins=20,density=True)",
      "metadata": {
        "trusted": true
      },
      "outputs": [],
      "execution_count": null
    },
    {
      "id": "079790d0-939d-4438-b692-a554316cd036",
      "cell_type": "markdown",
      "source": "Possiamo **confrontare l'istogramma** dei dati con la distribuzione teorica da cui sono stati estratti.<br>\nValutiamo e plottiamo una distribuzione normale standard $\\mathcal{N}(0,1)$ su un intervallo di valori fra -3 e 3.<br>\nLa distribuzione normale è caricata da `scipy` come `norm`, di cui vogliamo la PDF: `norm.pdf()`.",
      "metadata": {}
    },
    {
      "id": "a3d5b080-bcb9-444e-8150-b0199f652f57",
      "cell_type": "code",
      "source": "data_ran = np.arange(-3,3,0.05)",
      "metadata": {
        "trusted": true
      },
      "outputs": [],
      "execution_count": null
    },
    {
      "id": "be63de73-7afa-4dce-8480-933ef93bfc75",
      "cell_type": "code",
      "source": "fig,ax = plt.subplots()\n\nax.set_xlabel('$x$',fontsize=12)\nax.set_ylabel('Freq.',fontsize=12)\n\nax.hist(norm_data,bins=20,density=True,label='Dati')\nax.plot(data_ran,norm.pdf(data_ran),lw=2,label=r'$\\mathcal{N}(0,1)$')\n\nax.legend(loc='upper right')",
      "metadata": {
        "trusted": true
      },
      "outputs": [],
      "execution_count": null
    },
    {
      "id": "483c1bf4-11d9-4259-a135-4f243942e935",
      "cell_type": "markdown",
      "source": "Immaginiamo ora di ripetere $N$ volte questo esperimento: \n1) estraiamo $n$ numeri casuali $x_i$ da una gaussiana standard $\\mathcal{N}(0,1)$,\n2) calcoliamo la somma $z=\\sum_i^nx_i$\n   \nSommiamo gli $N$ valori $z$ ottenuti",
      "metadata": {}
    },
    {
      "id": "7311bc1e-5474-4d1a-8f65-31de071230e4",
      "cell_type": "code",
      "source": "n = 10\nN = 5000",
      "metadata": {
        "trusted": true
      },
      "outputs": [],
      "execution_count": null
    },
    {
      "id": "5ce50d24-ea3b-4910-ba8a-d369d452ab2a",
      "cell_type": "code",
      "source": "x_arr = np.array([ np.random.normal(size=n) for i in range(N) ])\nz = np.sum(x_arr,axis=1)",
      "metadata": {
        "trusted": true
      },
      "outputs": [],
      "execution_count": null
    },
    {
      "id": "fe5278e7-33b3-42fd-b958-ffe93d57301c",
      "cell_type": "markdown",
      "source": "Possiamo valutare ora come si distribuiscono gli $N$ valori $z$",
      "metadata": {}
    },
    {
      "id": "24a7029d-e5a1-42dc-8de9-f1cd160c2c76",
      "cell_type": "code",
      "source": "fig,ax = plt.subplots()\n\nax.set_xlim(-12,12)\n\nax.set_xlabel('$z$',fontsize=12)\nax.set_ylabel('Freq.',fontsize=12)\n\nval = ax.hist(z,bins=20,density=True)",
      "metadata": {
        "trusted": true
      },
      "outputs": [],
      "execution_count": null
    },
    {
      "id": "df95fc87-805c-4c72-b7bf-93d1a9f83dc3",
      "cell_type": "markdown",
      "source": "Gli $N$ valori $z=\\sum_i^n x_i$ sono distribuiti come una **variabile gaussiana** di media e varianza\n$$\n\\mu = \\sum_i^n \\mu_i,\\qquad \\sigma^2=\\sum_i^n\\sigma_z^2\n$$",
      "metadata": {}
    },
    {
      "id": "35a6c5f1-02c8-4e93-8e7c-3202f200d94e",
      "cell_type": "code",
      "source": "mu = 0\nsigma = np.sqrt(n)",
      "metadata": {
        "trusted": true
      },
      "outputs": [],
      "execution_count": null
    },
    {
      "id": "93be18a5-9443-4196-b20e-65c0d6053bd6",
      "cell_type": "code",
      "source": "data_ran2 = np.arange(z.min(),z.max(),0.1)",
      "metadata": {
        "trusted": true
      },
      "outputs": [],
      "execution_count": null
    },
    {
      "id": "bd68ec33-3b82-41d0-b0a3-ae9fb2ddcd6d",
      "cell_type": "code",
      "source": "fig,ax = plt.subplots()\n\nax.set_xlim(-12,12)\n\nax.set_xlabel('$z$',fontsize=12)\nax.set_ylabel('Freq.',fontsize=12)\n\nval = ax.hist(z,bins=20,density=True)\nax.plot(data_ran2,norm.pdf(data_ran2,mu,sigma),lw=2,label=r'$\\mathcal{N}(0,\\sqrt{n})$')\n\nax.legend(loc='upper right')",
      "metadata": {
        "trusted": true
      },
      "outputs": [],
      "execution_count": null
    },
    {
      "id": "c4328e4b-d142-4d90-861e-6f9542c7d0ee",
      "cell_type": "markdown",
      "source": "## Il chi-quadro",
      "metadata": {}
    },
    {
      "id": "c1352526-19dc-46be-9a33-ef09350f188e",
      "cell_type": "markdown",
      "source": "Valutiamo ora come si distribuiscono le **somme dei quadrati** di $x$:\n$$\n\\chi^2 = \\sum_i^n x_i^2\n$$",
      "metadata": {}
    },
    {
      "id": "9490966f-ac87-4638-a1ef-caddbe5d3a5a",
      "cell_type": "code",
      "source": "chi_square = np.sum(x_arr**2,axis=1)",
      "metadata": {
        "trusted": true
      },
      "outputs": [],
      "execution_count": null
    },
    {
      "id": "bf5121e0-e84d-4f7b-806d-ec39314a3658",
      "cell_type": "code",
      "source": "fig,ax = plt.subplots()\n\nax.set_xlabel(r'$\\chi^2$',fontsize=12)\nax.set_ylabel('Freq.',fontsize=12)\n\nax.hist(chi_square,bins=20,density=True)",
      "metadata": {
        "trusted": true
      },
      "outputs": [],
      "execution_count": null
    },
    {
      "id": "178c184d-996c-4423-a055-cbcd91411529",
      "cell_type": "markdown",
      "source": "La variabile $\\chi^2$ è una variabile aleatoria distribuita secondo una particolare distribuzione detta del **chi-quadro**:\n$$\nPDF(\\chi^2;n)=\\frac{1}{2^{n/2}\\Gamma(\\frac{n}{2})}(\\chi^2)^{n/2-1}e^{-\\chi^2/2}\n$$\nPossiamo disegnare la PDF della distribuzione chi-quadro da `scipy` come `chi2.pdf()`.<br>\nLa distribuzione chi-quadro dipende dal valore $n$ che compare nella definizione di $\\chi^2=\\sum_i^nz^2$. In generale, $n$ è detto **numero di gradi di libertà**.<br>\nNel nostro caso abbiamo quindi",
      "metadata": {}
    },
    {
      "id": "65789055-7e45-4600-a3fa-538941f04261",
      "cell_type": "code",
      "source": "chiran = np.arange(0,chi_square.max(),0.05)",
      "metadata": {
        "trusted": true
      },
      "outputs": [],
      "execution_count": null
    },
    {
      "id": "8c29802d-2076-4938-8b7e-6add10dc9f42",
      "cell_type": "code",
      "source": "fig,ax = plt.subplots()\n\nax.set_xlabel(r'$\\chi^2$',fontsize=12)\nax.set_ylabel('Freq.',fontsize=12)\n\nax.hist(chi_square,bins=20,density=True)\nax.plot(chiran,chi2.pdf(chiran,n),lw=2,label=rf'$PDF(\\chi^2;n={n})$')\n\nax.legend(loc='upper right')",
      "metadata": {
        "trusted": true
      },
      "outputs": [],
      "execution_count": null
    },
    {
      "id": "06490e07-819b-4c81-856c-f077ab1ef844",
      "cell_type": "markdown",
      "source": "Cambiamo il valore di $n$",
      "metadata": {}
    },
    {
      "id": "8b427698-40c0-4889-9906-71cfa6bf4274",
      "cell_type": "code",
      "source": "n=15\nchi_square = np.array([ np.sum(np.random.normal(size=n)**2) for i in range(N) ])",
      "metadata": {
        "trusted": true
      },
      "outputs": [],
      "execution_count": null
    },
    {
      "id": "e007772a-784d-4410-9102-3ff5227ae23e",
      "cell_type": "code",
      "source": "chiran = np.arange(0,chi_square.max(),0.1)",
      "metadata": {
        "trusted": true
      },
      "outputs": [],
      "execution_count": null
    },
    {
      "id": "dfeaac33-ae5c-48c9-ba9e-4305d7f006bc",
      "cell_type": "code",
      "source": "fig,ax = plt.subplots()\n\nax.set_xlim(0,chi_square.max())\n\nax.set_xlabel(r'$\\chi^2$',fontsize=12)\nax.set_ylabel('Freq.',fontsize=12)\n\nax.hist(chi_square,bins=20,density=True)\nax.plot(chiran,chi2.pdf(chiran,n),lw=2,label=rf'$PDF(\\chi^2;n={n})$')\n\nax.legend(loc='upper right')",
      "metadata": {
        "trusted": true
      },
      "outputs": [],
      "execution_count": null
    },
    {
      "id": "4bd4a14a-877f-438c-b788-6c01119121fc",
      "cell_type": "code",
      "source": "Nmax = 11\nchiran = np.arange(0,30,0.05)\ncolors = plt.cm.viridis(np.linspace(0,1,Nmax))",
      "metadata": {
        "trusted": true
      },
      "outputs": [],
      "execution_count": null
    },
    {
      "id": "9b95ba71-6b59-4bad-af50-48eef7f98ff4",
      "cell_type": "code",
      "source": "fig,ax = plt.subplots()\n\nax.set_ylim(-.03,.4)\nax.set_xlabel(r'$\\chi^2$',fontsize=12)\nax.set_ylabel(r'PDF($\\chi^2$)',fontsize=12)\n\nfor n in range(1,Nmax):\n    ax.plot(chiran,chi2.pdf(chiran,n),c=colors[n],lw=2,label='{}'.format(n))\n\nax.axhline(0,c='k',lw=.5)\nax.legend(loc='upper right',title='$n$')",
      "metadata": {
        "trusted": true
      },
      "outputs": [],
      "execution_count": null
    },
    {
      "id": "b5f631c2-47e0-49b8-8e20-a5715388a531",
      "cell_type": "markdown",
      "source": "# Residui del fit",
      "metadata": {}
    },
    {
      "id": "8356730c-bab6-491f-81ab-0a2d79756191",
      "cell_type": "markdown",
      "source": "- La somma dei residui ridotti di tutti i punti\n$$\nz=\\sum_{i=1}^n\\overline{res}_i=\\sum_{i=1}^n \\frac{a_i-f(\\theta_i)}{\\sigma_i}\n$$\nè distribuita come una variabile aleatoria **gaussiana**.\n\n- La somma dei **quadrati** dei residui ridotti\n$$\n\\chi^2_o=\\sum_{i=1}^n\\overline{res}^2_i=\\sum_{i=1}^n\\left[\\frac{a_i-f(\\theta_i)}{\\sigma_i}\\right]^2\n$$\nè una variabile casuale che segue una distribuzione **chi-quadro**.",
      "metadata": {}
    },
    {
      "id": "c568edca-a81d-4560-98a7-15a57da8d8ec",
      "cell_type": "markdown",
      "source": "Per il nostro fit:",
      "metadata": {}
    },
    {
      "id": "f047698e-1e9b-47e9-b383-08b508064e45",
      "cell_type": "code",
      "source": "chisq_o= np.sum(((a-f(theta_rad,*params))/a_err)**2)\nprint(chisq_o)",
      "metadata": {
        "trusted": true
      },
      "outputs": [],
      "execution_count": null
    },
    {
      "id": "8d3bed03-b437-4d24-99ef-7468b9e8db6f",
      "cell_type": "markdown",
      "source": "Il **numero di gradi di libertà** nel caso di un fit dipende dal **numero di parametri stimati** dai dati",
      "metadata": {}
    },
    {
      "id": "141d3508-e7f2-4731-b192-a6efe1025d03",
      "cell_type": "code",
      "source": "N = len(a)-len(params)\nprint(len(a))\nprint(len(params))\nprint(N)",
      "metadata": {
        "trusted": true
      },
      "outputs": [],
      "execution_count": null
    },
    {
      "id": "3366a88a-85a5-49b6-9338-7097ff908dca",
      "cell_type": "code",
      "source": "chiran = np.arange(0,100,0.1)",
      "metadata": {
        "trusted": true
      },
      "outputs": [],
      "execution_count": null
    },
    {
      "id": "9b045973-2a76-487b-9d30-dab19e797814",
      "cell_type": "code",
      "source": "fig,ax = plt.subplots()\n\n\nax.set_xlim(10,90)\nax.set_xlabel(r'$\\chi^2$',fontsize=12)\nax.set_ylabel(r'PDF($\\chi^2$)',fontsize=12)\n\nax.plot(chiran,chi2.pdf(chiran,N),c=colors[2],lw=2,label=fr'PDF($\\chi^2;{N}$)')\nax.plot([chisq_o,chisq_o],[0,chi2.pdf(chisq_o,N)],c=colors[2])\n\n\nax.axhline(0,c='k',lw=.5)\nax.annotate(r'$\\chi^2_o$',(chisq_o+1,0.01),fontsize=12)\n\nax.legend(loc='upper right',fontsize=12)",
      "metadata": {
        "trusted": true
      },
      "outputs": [],
      "execution_count": null
    },
    {
      "id": "17dac044-ba48-4767-9d46-b1a0a7cbd254",
      "cell_type": "markdown",
      "source": "La probabilità di ottenere un valore di $\\chi^2$ maggiore o uguale a quello osservato è\n\\begin{align}\nP(\\chi^2\\geq\\chi^2_o)&=\\int_{\\chi^2_o}^{+\\infty}\\textup{PDF}(\\chi^2)d\\chi^2\\\\\n&=1-\\int_{-\\infty}^{\\chi^2_o}\\textup{PDF}(\\chi^2)d\\chi^2\\\\\n&=1-\\textup{CDF}(\\chi^2_o)\n\\end{align}",
      "metadata": {}
    },
    {
      "id": "32bfaf1a-131a-4377-8267-b87b4ecc68a7",
      "cell_type": "code",
      "source": "fig,ax = plt.subplots()\n\n\nax.set_xlim(10,90)\nax.set_xlabel(r'$\\chi^2$',fontsize=12)\nax.set_ylabel(r'PDF($\\chi^2$)',fontsize=12)\n\nax.plot(chiran,chi2.pdf(chiran,N),c=colors[2],lw=2)\n\nchiran2 = np.linspace(chisq_o,100,200)\nax.fill_between(chiran2,chi2.pdf(chiran2,N),facecolor=colors[2],alpha=.4)\n\nax.plot([chisq_o,chisq_o],[0,chi2.pdf(chisq_o,N)],c=colors[2])\n\nax.annotate(r'$\\chi^2_o$',(chisq_o+1,0.01),fontsize=12)\nax.annotate(r\"$P(\\chi^2\\geq\\chi^2_o)$\",(50,0.02),(60,0.03),arrowprops=dict(arrowstyle=\"-\"),fontsize=12)\n\nax.axhline(0,c='k',lw=.5)\n#ax.legend(loc='upper right')",
      "metadata": {
        "trusted": true
      },
      "outputs": [],
      "execution_count": null
    },
    {
      "id": "d0f5bcbd-b2c7-4168-bd18-200b964f1c08",
      "cell_type": "markdown",
      "source": "Se la funzione che descrive il fenomeno fisico che stiamo studiando è davvero $f(\\theta)$ con i parametri `params`, allora abbiamo una probabilità $P(\\chi^2\\geq\\chi^2_o)$ di ottenere dei dati sperimentali con un accordo _uguale_ o _peggiore_ del nostro.\n\n- Se la probabilità $P(\\chi^2\\geq\\chi^2_o)$ è **alta**, significa che _statisticamente_ è molto probabile ottenere dei dati come i nostri dalla funzione $f(\\theta, params)$. La funzione $f(\\theta)$ con i parametri `params` ottenuti descrive bene i dati.\n- Se la probabilità $P(\\chi^2\\geq\\chi^2_o)$ è **bassa**, significa che _statisticamente_ è molto difficile ottenere dei dati come i nostri dalla funzione $f(\\theta, params)$. La funzione $f(\\theta)$ con i parametri `params` ottenuti _non_ descrive bene i dati.",
      "metadata": {}
    },
    {
      "id": "696c96af-4802-40bc-b226-4db29f842127",
      "cell_type": "code",
      "source": "Pchisq_o = 1.-chi2.cdf(chisq_o,N)\nprint(Pchisq_o)",
      "metadata": {
        "trusted": true
      },
      "outputs": [],
      "execution_count": null
    },
    {
      "id": "35da05ea-a427-46f0-a63a-02b7a418ce0d",
      "cell_type": "markdown",
      "source": "Si fissa un **livello di significatività** $\\alpha$.\nSe:\n- $P(\\chi^2\\geq\\chi^2_o)>\\alpha$: $f(\\theta)$ con `params` descrive \"bene\" i dati.\n\n- $P(\\chi^2\\geq\\chi^2_o)<\\alpha$: $f(\\theta)$ con `params` **non** descrive \"bene\" i dati: Rigettiamo l'ipotesi che i dati siano descritti da $f(\\theta,params)$",
      "metadata": {}
    },
    {
      "id": "f6ef114f-7721-45ad-92f7-a537cebac23c",
      "cell_type": "markdown",
      "source": "# Test di modelli",
      "metadata": {}
    },
    {
      "id": "ec6c45c1-ceb0-4faa-881a-832dbd4768ae",
      "cell_type": "markdown",
      "source": "Una serie di esperimenti ha permesso di ottenere i dati, con errore, nel file `./data/misure.csv`:",
      "metadata": {}
    },
    {
      "id": "67bfb4b5-5c41-4b29-bd9d-8fced3d233f3",
      "cell_type": "code",
      "source": "x,y,y_err = np.loadtxt('./data/misure.csv',delimiter=',',skiprows=1,unpack=True)\n\nfig,ax = plt.subplots()\n\nax.set_xlabel(r'x ()',fontsize=12)\nax.set_ylabel('y ()',fontsize=12)\n\nax.errorbar(x,y,yerr=y_err,c='b',\n            ls='none',marker='o',ms=3,capsize = 4, capthick = 1,label='Dati')\n\nax.legend(loc='best')",
      "metadata": {
        "trusted": true
      },
      "outputs": [],
      "execution_count": null
    },
    {
      "id": "ac6ad565-f695-4438-be8b-dc3534548cd6",
      "cell_type": "markdown",
      "source": "Quale funzione rappresenta il **modello** migliore per descrivere i dati?\n\n1) Ottenere il fit dei dati, con errore, usando una **retta** e una **parabola**.<br>\n   Per fit polinomiali, può essere più conveniente usare la funzione `np.polyfit()` di `numpy`.\n3) Valutare la distribuzione dei residui.\n4) Calcolare il $\\chi^2_o$ nei due casi. Quanti sono i **gradi di libertà**?\n5) Qual è, nei due casi, $P(\\chi^2\\geq\\chi^2_o)$?\n6) Se fissiamo il **livello di significatività** $\\alpha=0.05$, a quali conclusioni arriviamo?",
      "metadata": {}
    },
    {
      "id": "42c5c1cc-8324-4c65-acc3-806083c0c366",
      "cell_type": "code",
      "source": "",
      "metadata": {
        "trusted": true
      },
      "outputs": [],
      "execution_count": null
    }
  ]
}