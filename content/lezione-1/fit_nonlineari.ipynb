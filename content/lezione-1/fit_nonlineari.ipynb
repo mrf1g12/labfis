{
 "cells": [
  {
   "cell_type": "markdown",
   "id": "85b20209-5a5c-43f8-8886-8d81d17c301c",
   "metadata": {},
   "source": [
    "## Introduzione"
   ]
  },
  {
   "cell_type": "markdown",
   "id": "5332d155-c741-43cd-8645-6561b4048e72",
   "metadata": {},
   "source": [
    "Importiamo i moduli (librerie) necessarie per l'analisi:\n",
    "\n",
    "- `numpy`: libreria per la gestione di array, matrici e funzioni numeriche.\n",
    "- `scipy`: libreria di funzioni matematiche di alto livello per l'ottimizzazione, per l'algebra lineare, l'integrazione, funzioni speciali, ecc. In particolare, di `scipy` usiamo i moduli `optimize` e `signal`.\n",
    "- `matplotlib`: libreria grafica di python per la produzione di plot e grafici."
   ]
  },
  {
   "cell_type": "code",
   "execution_count": null,
   "id": "81c6e3a0-cba4-475d-9be8-376033e69ddc",
   "metadata": {},
   "outputs": [],
   "source": [
    "import numpy as np\n",
    "from scipy import optimize, signal\n",
    "\n",
    "import matplotlib.pyplot as plt\n",
    "%matplotlib inline\n",
    "\n",
    "from IPython.display import display, Math, Markdown"
   ]
  },
  {
   "cell_type": "markdown",
   "id": "bfe1b95a-9818-49ff-81ee-c7375f253c86",
   "metadata": {},
   "source": [
    "### Importare i dati"
   ]
  },
  {
   "cell_type": "markdown",
   "id": "1ddd2774-ba61-469e-be21-107edd850351",
   "metadata": {},
   "source": [
    "Tramite la funzione `loadtxt` di `numpy` è possibile importare dati da file. Nel nostro caso, importiamo i dati dal file `oscillazione.csv` che si trova nella sottocartella `data`."
   ]
  },
  {
   "cell_type": "markdown",
   "id": "a6941e5c-f84d-4897-9a55-48f8637a6693",
   "metadata": {},
   "source": [
    "Ispezionando il file, notiamo che i dati sono organizzati su **tre colonne**, delimitate da virgole. La prima riga del file contiene un'intestazione con i nomi delle colonne.\n",
    "Assegniamo ciascuna colonna ad un `array` di `numpy`:"
   ]
  },
  {
   "cell_type": "code",
   "execution_count": null,
   "id": "7aa19c17-e0fd-4f85-8418-53fd7f600e1e",
   "metadata": {},
   "outputs": [],
   "source": [
    "theta,a,a_err = np.loadtxt('./data/oscillazione1.csv',delimiter = ',', skiprows = 1,unpack=True)"
   ]
  },
  {
   "cell_type": "markdown",
   "id": "0f9a9544-8ab6-4477-9ba0-f9cef2299b1f",
   "metadata": {},
   "source": [
    "### Visualizzare i dati"
   ]
  },
  {
   "cell_type": "markdown",
   "id": "e68ea157-5235-45f5-bea4-85ac7833e740",
   "metadata": {},
   "source": [
    "È molto utile visualizzare i dati appena importati preparando un **plot** con `matplotlib`.<br>\n",
    "Cominciamo a plottare le prime due colonne: l'angolo $\\theta$ in **gradi** e l'ampiezza di oscillazione $a$, in **cm**."
   ]
  },
  {
   "cell_type": "code",
   "execution_count": null,
   "id": "fc2c15f9-aaf2-4f7f-b761-b1e1f9fb37d8",
   "metadata": {},
   "outputs": [],
   "source": [
    "fig,ax = plt.subplots()\n",
    "\n",
    "ax.set_xlabel(r'$\\theta$ (°)',fontsize=12)\n",
    "ax.set_ylabel('$a$ (cm)',fontsize=12)\n",
    "\n",
    "ax.scatter(theta,a,c='b')"
   ]
  },
  {
   "cell_type": "markdown",
   "id": "d765ec63-765c-437e-a0f3-b1037f476d9f",
   "metadata": {},
   "source": [
    "Per le elaborazioni conviene convertire l'angolo $\\theta$ in radianti"
   ]
  },
  {
   "cell_type": "code",
   "execution_count": null,
   "id": "2b97d693-33be-4b16-a13e-26e4baee26a2",
   "metadata": {},
   "outputs": [],
   "source": [
    "theta_rad = theta*np.pi/180."
   ]
  },
  {
   "cell_type": "code",
   "execution_count": null,
   "id": "b1438085-f6ba-458f-ab2e-285c1edbe051",
   "metadata": {},
   "outputs": [],
   "source": [
    "fig,ax = plt.subplots()\n",
    "\n",
    "ax.set_xlabel(r'$\\theta$ (rad)',fontsize=12)\n",
    "ax.set_ylabel('$a$ (cm)',fontsize=12)\n",
    "\n",
    "ax.scatter(theta_rad,a,c='b')"
   ]
  },
  {
   "cell_type": "markdown",
   "id": "f757c9de-c89e-47aa-b679-4e9713039bfb",
   "metadata": {},
   "source": [
    "Possiamo migliorare il grafico cambiando i *tick* lungo l'asse *x*. Rappresentiamo solamente multipli di $\\pi/2$ sui tick principali e di $\\pi/4$ su quelli secondari"
   ]
  },
  {
   "cell_type": "code",
   "execution_count": null,
   "id": "3b596cb4-3952-4073-b5ec-e408fa0d01c5",
   "metadata": {},
   "outputs": [],
   "source": [
    "from matplotlib.ticker import (MultipleLocator, AutoMinorLocator)"
   ]
  },
  {
   "cell_type": "code",
   "execution_count": null,
   "id": "a21103f7-c05b-4ca6-8478-62d96f2d27c9",
   "metadata": {},
   "outputs": [],
   "source": [
    "tick_list = np.arange(0,7,1)*np.pi/2.\n",
    "tick_labels = ['0','$\\pi/2$','$\\pi$','$3\\pi/2$','$2\\pi$','$5\\pi/2$','$3\\pi$']"
   ]
  },
  {
   "cell_type": "code",
   "execution_count": null,
   "id": "209026f0-b1a8-4ffc-91a7-d8f8d8c1f057",
   "metadata": {},
   "outputs": [],
   "source": [
    "fig,ax = plt.subplots()\n",
    "\n",
    "ax.set_xticks(tick_list)\n",
    "ax.set_xticklabels(tick_labels)\n",
    "ax.xaxis.set_minor_locator(MultipleLocator(np.pi/4.))\n",
    "ax.grid(axis='x')\n",
    "\n",
    "ax.set_xlabel(r'$\\theta$ (rad)',fontsize=12)\n",
    "ax.set_ylabel('$a$ (cm)',fontsize=12)\n",
    "\n",
    "ax.scatter(theta_rad,a,c='b')"
   ]
  },
  {
   "cell_type": "markdown",
   "id": "1133e633-fee1-4ff3-bb3a-5e86e7c2a872",
   "metadata": {},
   "source": [
    "### Fit nonlineare"
   ]
  },
  {
   "cell_type": "markdown",
   "id": "857bb762-d52b-47b5-a5c0-f22dce0ff635",
   "metadata": {},
   "source": [
    "I dati sono evidentemente periodici con un periodo di circa $\\pi$.<br>\n",
    "Possiamo interpolare i dati con una funzione periodica del tipo\n",
    "$$\n",
    "f(\\theta) = a_0 \\cos b_0(\\theta+\\theta_0)\n",
    "$$\n",
    "che dipende da due parametri $a_0$, $b_0$ e $\\theta_0$."
   ]
  },
  {
   "cell_type": "code",
   "execution_count": null,
   "id": "738ea63b-b093-4ac1-9f2a-174b13fc6972",
   "metadata": {},
   "outputs": [],
   "source": [
    "def f(theta,a0,b0,theta0):\n",
    "    return a0*np.cos(b0*(theta+theta0))"
   ]
  },
  {
   "cell_type": "markdown",
   "id": "13d5677b-ccf1-46be-ad9f-3a47927dfa98",
   "metadata": {},
   "source": [
    "La funzione `curve_fit` di `scipy.optimize` usa il metodo dei **minimi quadrati** per ottenere il fit di dati con una qualsiasi funzione, anche non lineare.<br>\n",
    "`curve_fit` richiede la funzione da fittare, definita prima, e i dati. <br>\n",
    "In parentesi, possiamo specificare una stima dei parametri. In questo caso (30,0)."
   ]
  },
  {
   "cell_type": "code",
   "execution_count": null,
   "id": "3c14a70b-8fdb-41d5-80e6-3f581217e4c0",
   "metadata": {},
   "outputs": [],
   "source": [
    "params, covar = optimize.curve_fit(f,theta_rad,a)"
   ]
  },
  {
   "cell_type": "markdown",
   "id": "99789a5b-a1c7-4391-a332-ddec7c9bacd0",
   "metadata": {},
   "source": [
    "Il primo array prodotto da `curve_fit`, chiamato `params` in questo caso, riporta i valori dei parametri `a0`, `b0` e `theta0` della funzione `f`.<br>\n",
    "Possiamo subito valutare se l'ottimizzazione è andata a buon fine."
   ]
  },
  {
   "cell_type": "markdown",
   "id": "e3b50cf2-acd7-48ea-9833-4a5a6b516b0b",
   "metadata": {},
   "source": [
    "Valutiamo la funzione `f` con i parametri trovati su una lista di punti tra 0 e $3\\pi$"
   ]
  },
  {
   "cell_type": "code",
   "execution_count": null,
   "id": "6a487d46-0c7b-4f7a-8445-8df9d1e92f2d",
   "metadata": {},
   "outputs": [],
   "source": [
    "theta_ran = np.arange(0,3*np.pi,0.05)"
   ]
  },
  {
   "cell_type": "code",
   "execution_count": null,
   "id": "9302f957-66fe-4fd3-8345-798158b722b1",
   "metadata": {},
   "outputs": [],
   "source": [
    "fig,ax = plt.subplots()\n",
    "\n",
    "ax.set_xticks(tick_list)\n",
    "ax.set_xticklabels(tick_labels)\n",
    "ax.xaxis.set_minor_locator(MultipleLocator(np.pi/4.))\n",
    "ax.grid(axis='x')\n",
    "\n",
    "ax.set_xlabel(r'$\\theta$ (rad)',fontsize=12)\n",
    "ax.set_ylabel('$a$ (cm)',fontsize=12)\n",
    "\n",
    "ax.scatter(theta_rad,a,c='b',label='Dati')\n",
    "\n",
    "ax.plot(theta_ran,f(theta_ran,*params),c='r',label='Fit')\n",
    "\n",
    "ax.legend(loc='best')"
   ]
  },
  {
   "cell_type": "markdown",
   "id": "58b564d2-3598-41d3-93d6-11e3560c4925",
   "metadata": {},
   "source": [
    "Evidentemente l'ottimizzazione non ha prodotto un risultato sensato. L'algoritmo ha bisogno di una stima ragionevole dei parametri. Nel nostro caso possiamo indicare, ad esempio\n",
    "\n",
    "        a0 = 5.\n",
    "        b0 = 2.\n",
    "        theta0 = 0."
   ]
  },
  {
   "cell_type": "code",
   "execution_count": null,
   "id": "35c12a92-9e35-4bac-ac1e-09c95bad1831",
   "metadata": {},
   "outputs": [],
   "source": [
    "params, covar = optimize.curve_fit(f,theta_rad,a,(5.,2.,0.))"
   ]
  },
  {
   "cell_type": "code",
   "execution_count": null,
   "id": "f2190286-b37c-4c3d-b7fc-ac3ddae54800",
   "metadata": {},
   "outputs": [],
   "source": [
    "print(params)"
   ]
  },
  {
   "cell_type": "code",
   "execution_count": null,
   "id": "01c10056-78ca-48ab-ad22-9625b4ff7dd6",
   "metadata": {},
   "outputs": [],
   "source": [
    "fig,ax = plt.subplots()\n",
    "\n",
    "ax.set_xticks(tick_list)\n",
    "ax.set_xticklabels(tick_labels)\n",
    "ax.xaxis.set_minor_locator(MultipleLocator(np.pi/4.))\n",
    "ax.grid(axis='x')\n",
    "\n",
    "ax.set_xlabel(r'$\\theta$ (rad)',fontsize=12)\n",
    "ax.set_ylabel('$a$ (cm)',fontsize=12)\n",
    "\n",
    "ax.scatter(theta_rad,a,c='b',label='Dati')\n",
    "\n",
    "ax.plot(theta_ran,f(theta_ran,*params),c='r',label='Fit')\n",
    "\n",
    "ax.legend(loc='best')"
   ]
  },
  {
   "cell_type": "markdown",
   "id": "4e281944-7f97-4a76-a093-28a1350163b1",
   "metadata": {},
   "source": [
    "L'ottimizzazione è andata a buon fine. Possiamo valutare anche l'errore stimato sui parametri utilizzando il secondo risultato prodotto da `curve_fit`."
   ]
  },
  {
   "cell_type": "markdown",
   "id": "43da7d8d-6449-4270-9a21-68e4f39a5998",
   "metadata": {},
   "source": [
    "Il secondo array prodotto da `curve_fit` è la matrice delle covarianze dei parametri del fit. Gli elementi sulla diagonale sono le **varianze** dei parametri `a0` e `theta0`:"
   ]
  },
  {
   "cell_type": "code",
   "execution_count": null,
   "id": "124c1682-4aec-446f-aa31-361e588acd32",
   "metadata": {},
   "outputs": [],
   "source": [
    "print(np.diag(covar))"
   ]
  },
  {
   "cell_type": "markdown",
   "id": "b0da6031-e3c2-4f1b-8afd-bad383b62e57",
   "metadata": {},
   "source": [
    "Gli errori sulla stima dei parametri sono quindi:"
   ]
  },
  {
   "cell_type": "code",
   "execution_count": null,
   "id": "7bece08c-fef6-474a-8349-d4d2133ad50d",
   "metadata": {},
   "outputs": [],
   "source": [
    "sigma_params = np.sqrt(np.diag(covar))\n",
    "print(sigma_params)"
   ]
  },
  {
   "cell_type": "code",
   "execution_count": null,
   "id": "71e91413-138e-4f45-800c-7b74ba758099",
   "metadata": {},
   "outputs": [],
   "source": [
    "display(Markdown(r'$a_0$ = {:.2f} $\\pm$ {:.2f} cm'.format(params[0],sigma_params[0])))\n",
    "display(Markdown(r'$b_0$ = {:.3f} $\\pm$ {:.3f} rad'.format(params[1],sigma_params[1])))\n",
    "display(Markdown(r'$\\theta_0$ = {:.3f} $\\pm$ {:.3f} rad'.format(params[2],sigma_params[2])))"
   ]
  },
  {
   "cell_type": "markdown",
   "id": "ba7d6f83-52ad-455b-b581-79725bd10bd4",
   "metadata": {},
   "source": [
    "### Bontà del fit: analisi dei residui"
   ]
  },
  {
   "cell_type": "markdown",
   "id": "af995f54-e295-4853-ba48-691a44983194",
   "metadata": {},
   "source": [
    "Una prima analisi della qualità del fit si può avere valutando i **residui**:\n",
    "$$\n",
    "res_i = a_i - f(\\theta_i),\n",
    "$$\n",
    "e graficandoli."
   ]
  },
  {
   "cell_type": "code",
   "execution_count": null,
   "id": "f8b4d33c-0f6a-4bc8-b87b-501163ce0c37",
   "metadata": {},
   "outputs": [],
   "source": [
    "res = a - f(theta_rad,*params)"
   ]
  },
  {
   "cell_type": "code",
   "execution_count": null,
   "id": "0f19aa5b-4fd0-4f14-805b-fd71e2022400",
   "metadata": {},
   "outputs": [],
   "source": [
    "fig,ax = plt.subplots()\n",
    "\n",
    "ax.set_xticks(tick_list)\n",
    "ax.set_xticklabels(tick_labels)\n",
    "ax.xaxis.set_minor_locator(MultipleLocator(np.pi/4.))\n",
    "ax.grid(axis='x')\n",
    "\n",
    "ax.set_xlabel(r'$\\theta$ (rad)',fontsize=12)\n",
    "ax.set_ylabel('res. (cm)',fontsize=12)\n",
    "\n",
    "ax.scatter(theta_rad,res,c='g')\n",
    "ax.axhline(0,c='k',lw=1)"
   ]
  },
  {
   "cell_type": "markdown",
   "id": "32256598-2591-436d-ac33-3e1a1b1deab6",
   "metadata": {},
   "source": [
    "Per avere un confronto diretto con il fit e i dati, si possono allineare i due plot:"
   ]
  },
  {
   "cell_type": "code",
   "execution_count": null,
   "id": "a14a87e0-6581-4d1e-81d8-fc42978fb12d",
   "metadata": {},
   "outputs": [],
   "source": [
    "fig,(ax1,ax2) = plt.subplots(2,1,sharex=True,gridspec_kw={'height_ratios':[2,1]})\n",
    "\n",
    "## Plot dati e fit\n",
    "\n",
    "ax1.set_xticks(tick_list)\n",
    "ax1.set_xticklabels(tick_labels)\n",
    "ax1.xaxis.set_minor_locator(MultipleLocator(np.pi/4.))\n",
    "ax1.grid(axis='x')\n",
    "\n",
    "#ax1.set_xlabel(r'$\\theta$ (rad)',fontsize=12)\n",
    "ax1.set_ylabel('$a$ (cm)',fontsize=12)\n",
    "\n",
    "ax1.scatter(theta_rad,a,c='b',label='Dati')\n",
    "\n",
    "ax1.plot(theta_ran,f(theta_ran,*params),c='r',label='Fit')\n",
    "\n",
    "ax1.legend(loc='lower left')\n",
    "\n",
    "\n",
    "## Plot residui\n",
    "\n",
    "ax2.set_xticks(tick_list)\n",
    "ax2.set_xticklabels(tick_labels)\n",
    "ax2.xaxis.set_minor_locator(MultipleLocator(np.pi/4.))\n",
    "ax2.grid(axis='x')\n",
    "\n",
    "ax2.set_ylim(-0.6,0.6)\n",
    "\n",
    "ax2.set_xlabel(r'$\\theta$ (rad)',fontsize=12)\n",
    "ax2.set_ylabel('res. (cm)',fontsize=12)\n",
    "\n",
    "ax2.scatter(theta_rad,res,c='g')\n",
    "ax2.axhline(0,c='k',lw=1)"
   ]
  },
  {
   "cell_type": "markdown",
   "id": "1799ade3-6079-448c-884b-814c2c1d334a",
   "metadata": {},
   "source": [
    "La figura ottenuta, che è stata chiamata `fig` può essere salvata:"
   ]
  },
  {
   "cell_type": "code",
   "execution_count": null,
   "id": "79a3720e-ff78-407c-ace1-b8e0be4d046a",
   "metadata": {},
   "outputs": [],
   "source": [
    "fig.savefig('./fit_oscillazioni.png',dpi=200,bbox_inches='tight')"
   ]
  },
  {
   "cell_type": "markdown",
   "id": "16fc9b19-101a-4540-bb88-64dcdd846e90",
   "metadata": {},
   "source": [
    "### Barre d'errore"
   ]
  },
  {
   "cell_type": "markdown",
   "id": "0db0326d-24b5-4d72-b249-96530650f83f",
   "metadata": {},
   "source": [
    "La terza colonna del file di dati rappresenta l'errore sulla misura di $a$. Possiamo rappresentare anche questa grandezza usando le **barre d'errore** nel plot"
   ]
  },
  {
   "cell_type": "code",
   "execution_count": null,
   "id": "27867c49-0ea5-4849-b2cd-99586ac72413",
   "metadata": {},
   "outputs": [],
   "source": [
    "fig,ax = plt.subplots()\n",
    "\n",
    "ax.set_xlabel(r'$\\theta$ (rad)',fontsize=12)\n",
    "ax.set_ylabel('$a$ (cm)',fontsize=12)\n",
    "\n",
    "ax.errorbar(theta_rad,a,yerr=a_err,c='b',\n",
    "            ls='none',marker='o',ms=2,capsize = 3, capthick = 1)"
   ]
  },
  {
   "cell_type": "markdown",
   "id": "82dcdcf3-1b1e-4088-b719-1f573db624f6",
   "metadata": {},
   "source": [
    "`curve_fit` può anche ottimizzare il fit tenendo conto dell'errore sui punti sperimentali. Gli errori su $a$, contenuti nell'array `a_err` sono passati a `curve_fit` specificando il parametro `sigma`"
   ]
  },
  {
   "cell_type": "code",
   "execution_count": null,
   "id": "db6c00c4-c7d7-4342-929f-13040b34fd1a",
   "metadata": {},
   "outputs": [],
   "source": [
    "params2, covar2 = optimize.curve_fit(f,theta_rad,a,(4.,2.,0.),sigma=a_err)"
   ]
  },
  {
   "cell_type": "code",
   "execution_count": null,
   "id": "3732c6a1-0de3-41bf-b8e6-8df6d7355b16",
   "metadata": {},
   "outputs": [],
   "source": [
    "print(params2)"
   ]
  },
  {
   "cell_type": "code",
   "execution_count": null,
   "id": "72723614-f6e2-47b2-8cd0-908493bfbbe8",
   "metadata": {},
   "outputs": [],
   "source": [
    "sigma_params2 = np.sqrt(np.diag(covar2))\n",
    "print(sigma_params2)"
   ]
  },
  {
   "cell_type": "code",
   "execution_count": null,
   "id": "7dd4fe3d-b722-412a-81b1-a9b11939e439",
   "metadata": {},
   "outputs": [],
   "source": [
    "fig,ax = plt.subplots()\n",
    "\n",
    "## Plot dati e fit\n",
    "\n",
    "ax.set_xticks(tick_list)\n",
    "ax.set_xticklabels(tick_labels)\n",
    "ax.xaxis.set_minor_locator(MultipleLocator(np.pi/4.))\n",
    "ax.grid(axis='x')\n",
    "\n",
    "ax.set_xlabel(r'$\\theta$ (rad)',fontsize=12)\n",
    "ax.set_ylabel('$a$ (cm)',fontsize=12)\n",
    "\n",
    "ax.errorbar(theta_rad,a,yerr=a_err,c='b',\n",
    "            ls='none',marker='o',ms=2,capsize = 3, capthick = 1,label='Dati')\n",
    "\n",
    "ax.plot(theta_ran,f(theta_ran,*params2),c='r',label='Fit')\n",
    "\n",
    "ax.legend(loc='best')"
   ]
  },
  {
   "cell_type": "markdown",
   "id": "107f7dc3-f2a9-473f-8276-583cde7b426f",
   "metadata": {},
   "source": [
    "Disponendo di un errore sui valori sperimentali, possiamo confrontarlo con i residui del fit"
   ]
  },
  {
   "cell_type": "code",
   "execution_count": null,
   "id": "6505f34e-35fb-4263-9e23-11213c84dc98",
   "metadata": {},
   "outputs": [],
   "source": [
    "res2 = a - f(theta_rad,*params2)"
   ]
  },
  {
   "cell_type": "code",
   "execution_count": null,
   "id": "f7c69ca4-08ed-4338-ac38-1f76e69536ae",
   "metadata": {},
   "outputs": [],
   "source": [
    "fig,ax = plt.subplots()\n",
    "\n",
    "ax.set_xticks(tick_list)\n",
    "ax.set_xticklabels(tick_labels)\n",
    "ax.xaxis.set_minor_locator(MultipleLocator(np.pi/4.))\n",
    "ax.grid(axis='x')\n",
    "\n",
    "ax.set_xlabel(r'$\\theta$ (rad)',fontsize=12)\n",
    "ax.set_ylabel('res (cm)',fontsize=12)\n",
    "\n",
    "ax.errorbar(theta_rad,res2,yerr=2*a_err,c='r',\n",
    "            ls='none',capsize = 3, capthick = 1,label='$\\pm2\\sigma$')\n",
    "ax.errorbar(theta_rad,res2,yerr=a_err,c='b',\n",
    "            ls='none',marker='o',ms=2,capsize = 3, capthick = 1,label='$\\pm\\sigma$')\n",
    "ax.axhline(0,c='k',lw=1)\n",
    "\n",
    "ax.legend(loc='best')"
   ]
  },
  {
   "cell_type": "markdown",
   "id": "da452bee-83ec-4857-b6ec-620ef9660918",
   "metadata": {},
   "source": [
    "Un'altra può essere fatta rapportando ciascun residuo $res_i=a_i-f(\\theta_i)$ al corrispondente errore $\\sigma_i$ sul dato:\n",
    "$$\n",
    "\\overline{res}_i=\\frac{res_i}{\\sigma_i}=\\frac{a_i-f(\\theta_i)}{\\sigma_i}\n",
    "$$"
   ]
  },
  {
   "cell_type": "code",
   "execution_count": null,
   "id": "9390e487-b7c3-44ed-8029-f67dc2c38f41",
   "metadata": {},
   "outputs": [],
   "source": [
    "res2_bar = res2/a_err"
   ]
  },
  {
   "cell_type": "code",
   "execution_count": null,
   "id": "c42352bd-2dab-44fe-a098-9ad5928589fd",
   "metadata": {},
   "outputs": [],
   "source": [
    "fig,ax = plt.subplots()\n",
    "\n",
    "ax.set_xticks(tick_list)\n",
    "ax.set_xticklabels(tick_labels)\n",
    "ax.xaxis.set_minor_locator(MultipleLocator(np.pi/4.))\n",
    "ax.grid(axis='x')\n",
    "\n",
    "ax.set_xlabel(r'$\\theta$ (rad)',fontsize=12)\n",
    "ax.set_ylabel('$\\overline{res}$',fontsize=12)\n",
    "\n",
    "ax.scatter(theta_rad,res2_bar,c='b')\n",
    "ax.axhline(0,c='k',lw=1)\n",
    "\n",
    "#ax.legend(loc='best')"
   ]
  },
  {
   "cell_type": "markdown",
   "id": "7d4f1ae0-f302-4da7-aca6-b646858a9c14",
   "metadata": {},
   "source": [
    "Per avere tutti valori **positivi**, possiamo considerare\n",
    "$$\n",
    "\\overline{res}_i^2=\\left[\\frac{a_i-f(\\theta_i)}{\\sigma_i}\\right]^2\n",
    "$$"
   ]
  },
  {
   "cell_type": "code",
   "execution_count": null,
   "id": "978fecb2-a57e-4615-8d51-9c698f1c9924",
   "metadata": {},
   "outputs": [],
   "source": [
    "res2_bar_square = res2_bar**2"
   ]
  },
  {
   "cell_type": "code",
   "execution_count": null,
   "id": "e1e8a8c8-2cbe-418a-bc4a-2c4fadc5edaa",
   "metadata": {},
   "outputs": [],
   "source": [
    "fig,ax = plt.subplots()\n",
    "\n",
    "ax.set_xticks(tick_list)\n",
    "ax.set_xticklabels(tick_labels)\n",
    "ax.xaxis.set_minor_locator(MultipleLocator(np.pi/4.))\n",
    "ax.grid(axis='x')\n",
    "\n",
    "ax.set_xlabel(r'$\\theta$ (rad)',fontsize=12)\n",
    "ax.set_ylabel('$\\overline{res}^2$',fontsize=12)\n",
    "\n",
    "ax.scatter(theta_rad,res2_bar_square,c='b')\n",
    "ax.axhline(0,c='k',lw=1)\n",
    "\n",
    "#ax.legend(loc='best')"
   ]
  },
  {
   "cell_type": "markdown",
   "id": "33963323-8c7e-406d-bdb5-711873037580",
   "metadata": {},
   "source": [
    "## Oscillazioni smorzate"
   ]
  },
  {
   "cell_type": "markdown",
   "id": "7e960f5d-639a-4d73-b714-7381056904f8",
   "metadata": {},
   "source": [
    "Seguendo lo schema dell'analisi precedente, provate ad ottenere il fit di un'**oscillazione smorzata**.<br>"
   ]
  },
  {
   "cell_type": "markdown",
   "id": "921b4b45-522d-4b15-b2f2-118d5eeceab8",
   "metadata": {},
   "source": [
    "La funzione da interpolare è del tipo\n",
    "$$\n",
    "g(t) = e^{-\\gamma t}[A\\cos(\\omega t)+B\\sin(\\omega t)],\n",
    "$$\n",
    "e dipende da quattro parametri: $\\gamma$, $\\omega$, $A$ e $B$."
   ]
  },
  {
   "cell_type": "markdown",
   "id": "9de1f820-327f-4e87-a164-0bc08ed95df4",
   "metadata": {},
   "source": [
    "\n",
    "1) Importare il file `./data/oscillazioni_smorzate.csv` usando la funzione `np.loadtxt`.\n",
    "2) Graficare i dati usando `matplotlib`.\n",
    "3) Definire la funzione `g(t,gamma,w,A,B)`. Le funzioni di elementari da usare sono: `np.exp, np.sin, np.cos`\n",
    "4) Interpolare i dati con la funzione `g` usando `optimize.curve_fit`.<br>\n",
    "Si riesce ad ottenere il fit anche senza passare a `curve_fit` stime per i parametri? Quali stime possiamo fornire per aiutare l'algoritmo?\n",
    "5) Quanto valgono i parametri $\\gamma$ e $\\omega$? Quali sono gli errori $\\sigma_\\gamma$ e $\\sigma_\\omega$?"
   ]
  },
  {
   "cell_type": "markdown",
   "id": "059a7996-1eb9-4add-a0e3-15ed62cb71db",
   "metadata": {},
   "source": []
  }
 ],
 "metadata": {
  "kernelspec": {
   "display_name": "Python 3 (ipykernel)",
   "language": "python",
   "name": "python3"
  },
  "language_info": {
   "codemirror_mode": {
    "name": "ipython",
    "version": 3
   },
   "file_extension": ".py",
   "mimetype": "text/x-python",
   "name": "python",
   "nbconvert_exporter": "python",
   "pygments_lexer": "ipython3",
   "version": "3.11.8"
  },
  "widgets": {
   "application/vnd.jupyter.widget-state+json": {
    "state": {},
    "version_major": 2,
    "version_minor": 0
   }
  }
 },
 "nbformat": 4,
 "nbformat_minor": 5
}
