import numpy as np

from scipy import optimize
from scipy.stats import chi2, norm

import matplotlib.pyplot as plt
import matplotlib.cm as cm
from matplotlib.ticker import (MultipleLocator, AutoMinorLocator)
%matplotlib inline








n = 500
norm_data = np.random.normal(size=n)





fig,ax = plt.subplots()

ax.set_xlabel('$z$',fontsize=12)
ax.set_ylabel('Freq.',fontsize=12)

ax.hist(norm_data,bins=20,density=True)
#ax.hist(norm_data,density=True)





data_ran = np.arange(-3,3,0.05)


fig,ax = plt.subplots()

ax.set_xlabel('$z$',fontsize=12)
ax.set_ylabel('Freq.',fontsize=12)

ax.hist(norm_data,bins=20,density=True,label='Dati')
ax.plot(data_ran,norm.pdf(data_ran),lw=2,label='$\mathcal{N}(\mu_x,\sigma_x)$')

ax.legend(loc='upper right')





n = 10
N = 5000


x_arr = np.array([ np.random.normal(size=n) for i in range(N) ])
z = np.sum(x_arr,axis=1)





fig,ax = plt.subplots()

ax.set_xlim(-12,12)

ax.set_xlabel('$z$',fontsize=12)
ax.set_ylabel('Freq.',fontsize=12)

val = ax.hist(z,bins=20,density=True)





mu = 0
sigma = np.sqrt(n)


data_ran2 = np.arange(z.min(),z.max(),0.1)


fig,ax = plt.subplots()

ax.set_xlim(-12,12)

ax.set_xlabel('$z$',fontsize=12)
ax.set_ylabel('Freq.',fontsize=12)

val = ax.hist(z,bins=20,density=True)
ax.plot(data_ran2,norm.pdf(data_ran2,mu,sigma),lw=2)








chi_square = np.sum(x_arr**2,axis=1)


fig,ax = plt.subplots()

ax.set_xlabel('$\chi^2$',fontsize=12)
ax.set_ylabel('Freq.',fontsize=12)

ax.hist(chi_square,bins=20,density=True)





chiran = np.arange(0,chi_square.max(),0.05)


fig,ax = plt.subplots()

ax.set_xlabel('$\chi^2$',fontsize=12)
ax.set_ylabel('Freq.',fontsize=12)

ax.hist(chi_square,bins=20,density=True)
ax.plot(chiran,chi2.pdf(chiran,n),lw=2)





n=15
chi_square = np.array([ np.sum(np.random.normal(size=n)**2) for i in range(N) ])


chiran = np.arange(0,chi_square.max(),0.1)


fig,ax = plt.subplots()

ax.set_xlim(0,chi_square.max())

ax.set_xlabel('$\chi^2$',fontsize=12)
ax.set_ylabel('Freq.',fontsize=12)

ax.hist(chi_square,bins=20,density=True)
ax.plot(chiran,chi2.pdf(chiran,n),lw=2)


Nmax = 11
chiran = np.arange(0,30,0.05)
colors = plt.cm.viridis(np.linspace(0,1,Nmax))


fig,ax = plt.subplots()

ax.set_ylim(-.03,.4)
ax.set_xlabel('$\chi^2$',fontsize=12)
ax.set_ylabel('PDF($\chi^2$)',fontsize=12)

for n in range(1,Nmax):
    ax.plot(chiran,chi2.pdf(chiran,n),c=colors[n],lw=2,label='{}'.format(n))

ax.axhline(0,c='k',lw=.5)
ax.legend(loc='upper right',title='$n$')





theta,a,a_err = np.loadtxt('./data/oscillazione.csv',delimiter = ',', skiprows = 1,unpack=True)
theta_rad = theta*np.pi/180.


def f(theta,a0,b0,theta0):
    return a0*np.cos(b0*(theta+theta0))


params, covar = optimize.curve_fit(f,theta_rad,a,(4.,2.,0.),sigma=a_err)


tick_list = np.arange(0,7,1)*np.pi/2.
tick_labels = ['0','$\pi/2$','$\pi$','$3\pi/2$','$2\pi$','$5\pi/2$','$3\pi$']


fig,ax = plt.subplots()

## Plot dati e fit

ax.set_xticks(tick_list)
ax.set_xticklabels(tick_labels)
ax.xaxis.set_minor_locator(MultipleLocator(np.pi/4.))
ax.grid(axis='x')

ax.set_xlabel(r'$\theta$ (rad)',fontsize=12)
ax.set_ylabel('$a$ (cm)',fontsize=12)

ax.errorbar(theta_rad,a,yerr=a_err,c='b',
            ls='none',marker='o',ms=2,capsize = 3, capthick = 1,label='Dati')

theta_ran = np.arange(0,3*np.pi,0.05)
ax.plot(theta_ran,f(theta_ran,*params),c='r',label='Fit')

ax.legend(loc='best')





theta_exp = theta_rad[16]
a_exp = a[16]
a_err_exp = a_err[16]
a_theo = f(theta_exp,*params)


fig,ax = plt.subplots()

## Plot dati e fit

ax.set_xlim(np.pi-.1,4)
ax.set_ylim(2.5,6.5)

#ax.set_xticks(tick_list)
#ax.set_xticklabels(tick_labels)
ax.xaxis.set_minor_locator(MultipleLocator(np.pi/4.))
ax.grid(axis='x')

ax.set_xlabel(r'$\theta$ (rad)',fontsize=12)
ax.set_ylabel('$a$ (cm)',fontsize=12)

ax.errorbar(theta_rad,a,yerr=a_err,c='b',
            ls='none',marker='o',ms=5,capsize = 3, capthick = 1,label='Dati')

theta_ran = np.arange(3,4.1,0.01)
ax.plot(theta_ran,f(theta_ran,*params),c='r',lw=2,label='Fit')
ax.scatter(theta_exp,a_theo,c='purple',marker='x',s=60,lw=3,zorder=10)

rect = plt.Rectangle((np.pi,3.5), width=.2, height=2.5, clip_on=False,transform=ax.transData,
                     facecolor="none",edgecolor='k',zorder=3)
ax.add_patch(rect)





fig,ax = plt.subplots()

ax.set_xlim(np.pi-.1,4)
ax.set_ylim(2.5,6.5)

#ax.set_xticks(tick_list)
#ax.set_xticklabels(tick_labels)
ax.xaxis.set_minor_locator(MultipleLocator(np.pi/4.))
ax.grid(axis='x')

ax.set_xlabel(r'$\theta$ (rad)',fontsize=12)
ax.set_ylabel('$a$ (cm)',fontsize=12)

ax.errorbar(theta_rad,a,yerr=a_err,c='b',
            ls='none',marker='o',ms=5,capsize = 3, capthick = 1,label='Dati')

ax.plot(theta_ran,f(theta_ran,*params),c='r',label='Fit')
ax.scatter(theta_exp,a_theo,c='purple',marker='x',s=60,lw=3,zorder=10)



x1, x2, y1, y2 = np.pi,np.pi+0.2,3.5,6.  # subregion of the original image
axins = ax.inset_axes([0.5, 0.1, 0.45, 0.65],
    xlim=(x1, x2), ylim=(y1, y2), xticklabels=[], yticklabels=[])
ax.indicate_inset_zoom(axins, edgecolor="black")
rect = plt.Rectangle((0.49, 0.08), width=.45, height=.65, clip_on=False,transform=ax.transAxes,
                     facecolor=".2",zorder=3)
ax.add_patch(rect)

axins.set_xticks([])
axins.set_yticks([])


axins2 = axins.twiny()
axins2.set_xticks([])
xins2_min, xins2_max = x1-theta_exp,x2-theta_exp
axins2.set_xlim(xins2_min, xins2_max)
axins2.axvline(0.5,c='k',lw=1)
#axins.errorbar(theta_rad,a,yerr=a_err,c='b',
#            ls='none',marker='o',ms=2,capsize = 3, capthick = 1,label='Dati')

axins.plot(theta_ran,f(theta_ran,*params),c='r',alpha=0.3)



normalize = xins2_max/norm.pdf(a_theo,a_theo,a_err_exp)/1.1
yran = np.linspace(3.5,7,200)
axins2.fill_betweenx(yran,norm.pdf(yran,a_theo,a_err_exp)*normalize,color='purple',
                     alpha=0.2)
axins2.plot(norm.pdf(yran,a_theo,a_err_exp)*normalize,yran,color='purple')
axins2.axhline(a_theo,c='purple',zorder=-1)
#axins2.axhline(a_exp,c='b',zorder=-1)
axins2.axvline(0,c='k',lw=.5,zorder=-1)

axins2.scatter(0,a_exp,c='b',zorder=2)
axins2.scatter(0,a_theo,c='purple',marker='x',s=80,lw=3,zorder=10)

axins2.annotate('',(norm.pdf(a_theo-a_err_exp,a_theo,a_err_exp)*normalize,a_theo-a_err_exp),
               ((norm.pdf(a_theo+a_err_exp,a_theo,a_err_exp)*normalize),a_theo+a_err_exp),
               arrowprops=dict(arrowstyle="|-|",color='b',lw=1.5))








chisq_o= np.sum(((a-f(theta_rad,*params))/a_err)**2)
print(chisq_o)





N = len(a)-len(params)
print(N)


chiran = np.arange(0,100,0.1)


fig,ax = plt.subplots()


ax.set_xlim(10,90)
ax.set_xlabel('$\chi^2$',fontsize=12)
ax.set_ylabel('PDF($\chi^2$)',fontsize=12)

ax.plot(chiran,chi2.pdf(chiran,N),c=colors[2],lw=2,label='PDF($\chi^2;N$)')
ax.plot([chisq_o,chisq_o],[0,chi2.pdf(chisq_o,N)],c=colors[2])


ax.axhline(0,c='k',lw=.5)
ax.annotate(r'$\chi^2_o$',(chisq_o+1,0.01),fontsize=12)

ax.legend(loc='upper right',fontsize=12)


fig,ax = plt.subplots()


ax.set_xlim(10,90)
ax.set_xlabel('$\chi^2$',fontsize=12)
ax.set_ylabel('PDF($\chi^2$)',fontsize=12)

ax.plot(chiran,chi2.pdf(chiran,N),c=colors[2],lw=2)

chiran2 = np.linspace(chisq_o,100,200)
ax.fill_between(chiran2,chi2.pdf(chiran2,N),facecolor=colors[2],alpha=.4)

ax.plot([chisq_o,chisq_o],[0,chi2.pdf(chisq_o,N)],c=colors[2])

ax.annotate(r'$\chi^2_o$',(chisq_o+1,0.01),fontsize=12)
ax.annotate(r"$P(\chi^2\geq\chi^2_o)$",(50,0.02),(60,0.03),arrowprops=dict(arrowstyle="-"),fontsize=12)

ax.axhline(0,c='k',lw=.5)
#ax.legend(loc='upper right')








Pchisq_o = 1.-chi2.cdf(chisq_o,N)
print(Pchisq_o)











x,y,y_err = np.loadtxt('./data/misure.csv',delimiter=',',skiprows=1,unpack=True)

fig,ax = plt.subplots()

ax.set_xlabel(r'x ()',fontsize=12)
ax.set_ylabel('y ()',fontsize=12)

ax.errorbar(x,y,yerr=y_err,c='b',
            ls='none',marker='o',ms=3,capsize = 4, capthick = 1,label='Dati')

ax.legend(loc='best')






