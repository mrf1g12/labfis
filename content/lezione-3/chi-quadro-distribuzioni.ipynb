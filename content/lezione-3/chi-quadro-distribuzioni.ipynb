{
  "metadata": {
    "kernelspec": {
      "name": "python",
      "display_name": "Python (Pyodide)",
      "language": "python"
    },
    "language_info": {
      "codemirror_mode": {
        "name": "python",
        "version": 3
      },
      "file_extension": ".py",
      "mimetype": "text/x-python",
      "name": "python",
      "nbconvert_exporter": "python",
      "pygments_lexer": "ipython3",
      "version": "3.8"
    },
    "widgets": {
      "application/vnd.jupyter.widget-state+json": {
        "state": {},
        "version_major": 2,
        "version_minor": 0
      }
    }
  },
  "nbformat_minor": 5,
  "nbformat": 4,
  "cells": [
    {
      "id": "2aa75e1a-106e-478f-aeeb-0d4eaac46d61",
      "cell_type": "code",
      "source": "import numpy as np\n\nfrom scipy.stats import chi2, norm\n\nimport matplotlib.pyplot as plt\n%matplotlib inline",
      "metadata": {
        "trusted": true
      },
      "outputs": [],
      "execution_count": null
    },
    {
      "id": "479477ce-1954-42fd-919f-9bc4faa3e755",
      "cell_type": "markdown",
      "source": "# Test di una distribuzione",
      "metadata": {}
    },
    {
      "id": "e4fa4f6a-81c3-4e29-a1cc-b596872d26fc",
      "cell_type": "code",
      "source": "norm_data = np.loadtxt('./data/dati_misure.dat',unpack=True)",
      "metadata": {
        "trusted": true
      },
      "outputs": [],
      "execution_count": null
    },
    {
      "id": "37f5d8fd-2f07-475e-8e18-84d9939a171f",
      "cell_type": "markdown",
      "source": "Numero totale di dati $N$:",
      "metadata": {}
    },
    {
      "id": "8ccc98c1-733a-4f53-aad3-70c98f0327d6",
      "cell_type": "code",
      "source": "N = len(norm_data)\nprint(N)",
      "metadata": {
        "trusted": true
      },
      "outputs": [],
      "execution_count": null
    },
    {
      "id": "7ada44b0-fb4f-4ca6-a43e-29796a263283",
      "cell_type": "code",
      "source": "Oi, bins = np.histogram(norm_data,bins=np.arange(-2.25,2.75,.5))\nprint(bins)\nprint(Oi)",
      "metadata": {
        "trusted": true
      },
      "outputs": [],
      "execution_count": null
    },
    {
      "id": "6f1fb9c7-0c9a-4725-b06c-a4bffc082b0d",
      "cell_type": "code",
      "source": "center_bins = np.sum(np.vstack([bins[:-1],bins[1:]]),axis=0)/2.\nprint(center_bins)",
      "metadata": {
        "trusted": true
      },
      "outputs": [],
      "execution_count": null
    },
    {
      "id": "b8de50cb-15d8-4367-8f64-8b85f495af99",
      "cell_type": "code",
      "source": "fig,ax = plt.subplots()\n\nax.set_xlim(-3,3)\n\nax.set_xticks(center_bins)\nax.set_xlabel('$z$',fontsize=12)\nax.set_ylabel(r'Conteggi $O$',fontsize=12)\n\nax.bar(center_bins,Oi,ec='k',width=0.42,label='Dati')\n\nax.legend(loc='upper right')",
      "metadata": {
        "trusted": true
      },
      "outputs": [],
      "execution_count": null
    },
    {
      "id": "0da2b8fd-be2e-4acd-92f3-cd8b442bb80d",
      "cell_type": "markdown",
      "source": "In ogni **bin** $i$ avviene un esperimento di conteggio: il numero di conteggi $O_i$ nel bin $i$ segue una statistica **poissoniana** con\n1) **valore medio** $E_i$\n2) **deviazione standard** $\\sqrt{E_i}$\n\ndove i valori $E_i$ sono i numeri di conteggi **attesi** nel bin $i$ *se è vera* l'ipotesi nulla.",
      "metadata": {}
    },
    {
      "id": "a9fe47ff-1de0-4893-b93f-c23ec30e212e",
      "cell_type": "code",
      "source": "",
      "metadata": {
        "trusted": true
      },
      "outputs": [],
      "execution_count": null
    },
    {
      "id": "ff0c4274-bd3e-4e6d-8a7b-f2f80d8b2adb",
      "cell_type": "markdown",
      "source": "**Ipotesi nulla:** i valori conteggiati di $z$ seguono una distribuzione gaussiana di media $\\mu=0$ e $\\sigma=1$:\n\n$$\\textup{PDF}(z)=\\frac{1}{\\sqrt{2\\pi}}e^{-x^2}$$",
      "metadata": {}
    },
    {
      "id": "be38baec-1f04-425f-beb0-5d4a0b007e89",
      "cell_type": "markdown",
      "source": "Il numero totale di conteggi che ci **aspettiamo** nel bin $i$ è quindi\n\n\\begin{align}\nE_i &= N\\int_{z_{i-1}}^{z_i}\\textup{PDF}(z)dz\\\\\n&= N\\left(\\int_{-\\infty}^{z_{i}}\\textup{PDF}(z)dz - \\int_{-\\infty}^{z_{i-1}}\\textup{PDF}(z)dz\\right)\\\\\n&= N\\,\\left[\\textup{CDF}(z_i)-\\textup{CDF}(z_{i-1})\\right]\n\\end{align}",
      "metadata": {}
    },
    {
      "id": "cd0fb212-72c3-4d80-84b7-4c00f4285e45",
      "cell_type": "markdown",
      "source": "Se **nel bin** $O_i \\gtrsim 5$, la Poissoniana è ben approssimata da una distribuzione **Gaussiana**, quindi la variabile casuale $O_i$ è una variabile (approssimativamente) gaussiana.",
      "metadata": {}
    },
    {
      "id": "35f1bc64-ff6e-4b0b-97fa-2b40d0bd4a9b",
      "cell_type": "code",
      "source": "cdfs = norm.cdf(bins)\nEi = np.diff(cdfs)*N",
      "metadata": {
        "trusted": true
      },
      "outputs": [],
      "execution_count": null
    },
    {
      "id": "1a23e9c8-7da7-4500-b8b8-d24d5690ceb0",
      "cell_type": "code",
      "source": "fig,ax = plt.subplots()\n\nax.set_xlim(-3,3)\n\nax.set_xticks(center_bins)\nax.set_xlabel('$z$',fontsize=12)\nax.set_ylabel(r'Conteggi',fontsize=12)\n\nax.bar(center_bins,Oi,ec='k',width=0.42,label='Osservati, $O_i$')\nax.scatter(center_bins,Ei,c='r',label='Attesi, $E_i$')\n\nax.legend(loc='upper right')",
      "metadata": {
        "trusted": true
      },
      "outputs": [],
      "execution_count": null
    },
    {
      "id": "b7d24f4d-a380-4315-b5ae-77986694568f",
      "cell_type": "markdown",
      "source": "Possiamo valutare se i valori **attesi** $E_i$ si adattano bene ai **osservati** $O_i$ calcolando il $\\chi^2$:\n$$\n\\chi^2=\\sum_i \\frac{(O_i-E_i)^2}{E_i}\n$$",
      "metadata": {}
    },
    {
      "id": "b075d8f8-332b-4842-9889-12f0940aec22",
      "cell_type": "code",
      "source": "chisq = np.sum((Oi-Ei)**2/Ei)\nprint(chisq)",
      "metadata": {
        "trusted": true
      },
      "outputs": [],
      "execution_count": null
    },
    {
      "id": "f9e455a0-1e9e-42c8-bbc9-33cd0247dee8",
      "cell_type": "code",
      "source": "1-chi2.cdf(chisq,len(Oi)-1)",
      "metadata": {
        "trusted": true
      },
      "outputs": [],
      "execution_count": null
    },
    {
      "id": "4d1ad0e6-f037-4bc7-a258-98b34d9e2587",
      "cell_type": "code",
      "source": "",
      "metadata": {
        "trusted": true
      },
      "outputs": [],
      "execution_count": null
    },
    {
      "id": "22bf7a5b-2710-434f-9471-7c63aa05f6be",
      "cell_type": "markdown",
      "source": "# Dadi truccati?",
      "metadata": {}
    },
    {
      "id": "d45b0431-5329-4ae8-9db7-c157add328bd",
      "cell_type": "markdown",
      "source": "Lanciando 1000 volte **due dadi a 6 facce** si ottiengono i 1000 risultati raccolti nel file `./data/dadi.dat`.<br>\nUsando il test statistico del $\\chi^2$ possiamo concludere che il dado è truccato?",
      "metadata": {}
    },
    {
      "id": "c6b4c93e-1a8c-4790-b280-37f58ac33e11",
      "cell_type": "code",
      "source": "dadi = np.loadtxt('./data/dadi.dat')",
      "metadata": {
        "trusted": true
      },
      "outputs": [],
      "execution_count": null
    },
    {
      "id": "f04ade8a-aba3-4e61-b695-794aced976cf",
      "cell_type": "code",
      "source": "print(len(dadi))\nprint(dadi)",
      "metadata": {
        "trusted": true
      },
      "outputs": [],
      "execution_count": null
    },
    {
      "id": "4d954dcd-b6eb-4a93-894d-2dd5d90674f2",
      "cell_type": "code",
      "source": "Oi, bins = np.histogram(dadi,np.arange(1.5,13))\ncenter_bins = np.arange(2,13)\nprint(center_bins)",
      "metadata": {
        "trusted": true
      },
      "outputs": [],
      "execution_count": null
    },
    {
      "id": "18f71dae-6e6d-47dd-ab4c-11833e54667f",
      "cell_type": "code",
      "source": "fig,ax = plt.subplots()\n\nax.set_xticks(range(2,13))\nax.set_xlabel('Risultato',fontsize=12)\nax.set_ylabel('Conteggi',fontsize=12)\n\nax.bar(center_bins,Oi,ec='k')",
      "metadata": {
        "trusted": true
      },
      "outputs": [],
      "execution_count": null
    },
    {
      "id": "848c3775-55c3-4530-a447-5b9736178908",
      "cell_type": "markdown",
      "source": "1) Quali sono i risultati che si possono ottenere lanciando 2 dadi a 6 facce?\n2) Quanti sono i **conteggi osservati** $O_i$ per ciascun risultato?",
      "metadata": {}
    },
    {
      "id": "01a80226-4ade-4ba0-8ba7-e98479a11a6e",
      "cell_type": "markdown",
      "source": "**Ipotesi nulla:** i due dadi non sono truccati. Ciascuna faccia ha una probabilità 1/6.\n\n3) Qual è la probabilità teorica $P_i$ di ottenere ciascun risultato usando **due dadi non truccati**?\n4) Quali sono i **conteggi attesi** $E_i$ per ciascun risultato?\n5) Usando un test del $\\chi^2$ e scegliendo una significatività $\\alpha=5\\%$, possiamo **rigettare** l'ipotesi nulla?",
      "metadata": {}
    },
    {
      "id": "62d4df02-06fd-44a9-8bf0-896937b75ec4",
      "cell_type": "code",
      "source": "",
      "metadata": {
        "trusted": true
      },
      "outputs": [],
      "execution_count": null
    }
  ]
}