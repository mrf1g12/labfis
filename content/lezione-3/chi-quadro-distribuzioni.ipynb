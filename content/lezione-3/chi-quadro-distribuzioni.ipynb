{
 "cells": [
  {
   "cell_type": "code",
   "execution_count": null,
   "id": "2aa75e1a-106e-478f-aeeb-0d4eaac46d61",
   "metadata": {},
   "outputs": [],
   "source": [
    "import numpy as np\n",
    "\n",
    "from scipy.stats import chi2, norm\n",
    "\n",
    "import matplotlib.pyplot as plt\n",
    "%matplotlib inline"
   ]
  },
  {
   "cell_type": "markdown",
   "id": "12386fc3-bc50-42b5-952e-748620ef0056",
   "metadata": {},
   "source": [
    "# Monete truccate?"
   ]
  },
  {
   "cell_type": "markdown",
   "id": "a3101ea5-c701-4c79-b016-3a40167bbbc3",
   "metadata": {},
   "source": [
    "Lanciamo **3 monete**. **Se** le monete *non sono truccate*, per ciascuna moneta la probabilità di ottenere testa è $p=1/2$. Le probabilità dei possibili risultati sulle tre monete si ottengono dalla **distribuzione binomiale**. Dal momento che $p=(1-p)=1/2$:\n",
    "$$\n",
    "P(k)={3\\choose k}p^k(1-p)^{3-k}={3 \\choose k}(1/2)^k(1/2)^{3-k}={3 \\choose k}(1/2)^3={3 \\choose k}\\frac{1}{8}\n",
    "$$\n",
    "\n",
    "- **0 teste**: $$P(0)={3\\choose 0}\\frac{1}{8}=\\frac{1}{8}=0.125$$\n",
    "- **1 testa**: $$P(1)={3\\choose 1}\\frac{1}{8}=3\\,\\frac{1}{8}=0.375$$\n",
    "- **2 teste**: $$P(2)={3\\choose 2}\\frac{1}{8}=3\\,\\frac{1}{8}=0.375$$\n",
    "- **3 teste**: $$P(3)={3\\choose 2}\\frac{1}{8}=\\frac{1}{8}=0.125$$"
   ]
  },
  {
   "cell_type": "code",
   "execution_count": null,
   "id": "75c77b7c-d0da-49fa-acee-ce48aedebcda",
   "metadata": {},
   "outputs": [],
   "source": [
    "P_expt = np.array([0.125, 0.375, 0.375, 0.125])"
   ]
  },
  {
   "cell_type": "markdown",
   "id": "42e79c46-921c-4a76-97f3-e3009f143443",
   "metadata": {},
   "source": [
    "Immaginiamo ora di lanciare $N=200$ volte le 3 monete e di ottenere questi **conteggi** di teste:"
   ]
  },
  {
   "cell_type": "code",
   "execution_count": null,
   "id": "2abdbc63-fda9-43c4-b2af-9164b24cc9d7",
   "metadata": {},
   "outputs": [],
   "source": [
    "O = np.array([16, 88, 69, 27])"
   ]
  },
  {
   "cell_type": "code",
   "execution_count": null,
   "id": "c2abc668-5a44-434f-9d9c-df68b9a57ad7",
   "metadata": {},
   "outputs": [],
   "source": [
    "N = O.sum()\n",
    "print(N)"
   ]
  },
  {
   "cell_type": "code",
   "execution_count": null,
   "id": "6b67e6b0-82b5-4b9c-894f-05af553779b9",
   "metadata": {},
   "outputs": [],
   "source": [
    "fig,ax = plt.subplots()\n",
    "\n",
    "ax.set_xlim(-1,4)\n",
    "\n",
    "ax.set_xticks([0,1,2,3])\n",
    "ax.set_xlabel('# teste',fontsize=12)\n",
    "ax.set_ylabel(r'Conteggi $O$',fontsize=12)\n",
    "\n",
    "ax.bar([0,1,2,3],O,ec='k',width=0.42,label='Conteggi $O_i$')\n",
    "\n",
    "ax.legend(loc='best')"
   ]
  },
  {
   "cell_type": "markdown",
   "id": "4a381631-0ff4-436f-a7f9-1e5eac06ff89",
   "metadata": {},
   "source": [
    "Ci viene chiesto di valutare se le monete sono **truccate** o meno. \n",
    "\n",
    "**Ipotesi nulla $H_0$**: le monete non sono truccate.<br>\n",
    "Fissiamo la soglia di significatività $\\alpha=0.05$.\n",
    "\n",
    "**Sotto l'ipotesi nulla**, le probabilità di ottenere i 4 possibili risultati sono date da `P_expt`. Avendo lanciato $N$ volte le tre monete, i **valori attesi** _se_ $H_0$ è vera sono $E_i = P(i)N$:"
   ]
  },
  {
   "cell_type": "code",
   "execution_count": null,
   "id": "1d2dfc51-f379-4680-8024-24cedbb417d2",
   "metadata": {},
   "outputs": [],
   "source": [
    "E = N*P_expt\n",
    "print(E)"
   ]
  },
  {
   "cell_type": "code",
   "execution_count": null,
   "id": "be5fae13-95ce-4df7-9c89-f6ae1756dd7d",
   "metadata": {},
   "outputs": [],
   "source": [
    "fig,ax = plt.subplots()\n",
    "\n",
    "ax.set_xlim(-1,4)\n",
    "\n",
    "ax.set_xticks([0,1,2,3])\n",
    "ax.set_xlabel('# teste',fontsize=12)\n",
    "ax.set_ylabel(r'Conteggi $O$',fontsize=12)\n",
    "\n",
    "ax.bar([0,1,2,3],O,ec='k',width=0.42,label='Conteggi $O_i$')\n",
    "ax.scatter([0,1,2,3],E,c='r',label='Attesi, $E_i$')\n",
    "\n",
    "ax.legend(loc='best')"
   ]
  },
  {
   "cell_type": "markdown",
   "id": "399a9a0f-ab95-45b7-934e-8a6d74dcacd4",
   "metadata": {},
   "source": [
    "Per ogni numero di teste (0,1,2,4) $i$ avviene un esperimento di conteggio. Il numero di conteggi $O_i$ per il possibile risultato $i$ segue una statistica **poissoniana** con\n",
    "1) **valore medio** $E_i$\n",
    "2) **deviazione standard** $\\sqrt{E_i}$\n",
    "\n",
    "dove i valori $E_i$ sono i numeri di conteggi **attesi** per un numero $i$ di teste *se è vera* l'ipotesi nulla."
   ]
  },
  {
   "cell_type": "markdown",
   "id": "ba881f2e-dd6c-46f4-aeed-8fadda185328",
   "metadata": {},
   "source": [
    "Se per $i$ abbiamo $O_i \\gtrsim 5$, la Poissoniana è ben approssimata da una distribuzione **Gaussiana**, quindi la variabile casuale $O_i$ è una variabile (approssimativamente) gaussiana.<br>\n",
    "Possiamo valutare se i valori **attesi** $E_i$ si adattano bene ai conteggi **osservati** $O_i$ calcolando il $\\chi^2$:\n",
    "$$\n",
    "\\chi^2_o=\\sum_{i=1}^n \\frac{(O_i-E_i)^2}{E_i}\n",
    "$$\n",
    "dove $n=4$ possibili risultati."
   ]
  },
  {
   "cell_type": "code",
   "execution_count": null,
   "id": "9c98a632-3e50-4f70-b1d8-c15d6646bc51",
   "metadata": {},
   "outputs": [],
   "source": [
    "chisq_o = np.sum((O-E)**2/E)\n",
    "print(chisq_o)"
   ]
  },
  {
   "cell_type": "markdown",
   "id": "4d74bc73-297d-455b-b2ec-8eb320fd45cc",
   "metadata": {},
   "source": [
    "Abbiamo $n=4$ categorie in cui conteggiamo, il numero totale di conteggi è fissato a $N$. Il numero di **gradi di libertà** della distribuzione $\\chi^2$ è"
   ]
  },
  {
   "cell_type": "code",
   "execution_count": null,
   "id": "eaaec593-4b2d-4b1d-973a-2df433745080",
   "metadata": {},
   "outputs": [],
   "source": [
    "dof = len(O)-1\n",
    "print(dof)"
   ]
  },
  {
   "cell_type": "markdown",
   "id": "6bd4dbdb-4d3f-4dda-a16e-1aa7219e127a",
   "metadata": {},
   "source": [
    "La probabilità di avere $P(\\chi^2\\geq\\chi^2_o)$ si ottiene usando la PDF della distribuzione $\\chi^2$ con 3 gradi di libertà"
   ]
  },
  {
   "cell_type": "code",
   "execution_count": null,
   "id": "c78f4091-2430-48ba-88be-fa381bf17e4e",
   "metadata": {},
   "outputs": [],
   "source": [
    "1-chi2.cdf(chisq_o, dof)"
   ]
  },
  {
   "cell_type": "markdown",
   "id": "c7752de0-e7f2-477f-8ce1-7f74d81516c8",
   "metadata": {},
   "source": [
    "$P(\\chi^2\\geq\\chi_o^2)>\\alpha$. Non possiamo rigettare l'ipotesi nulla."
   ]
  },
  {
   "cell_type": "markdown",
   "id": "3d4cfa99-879e-4f9c-a2f8-b72bbffbaae7",
   "metadata": {},
   "source": [
    "Altre 3 monete diverse:"
   ]
  },
  {
   "cell_type": "code",
   "execution_count": null,
   "id": "b67bfb86-3697-416a-8b6b-242197b2d299",
   "metadata": {},
   "outputs": [],
   "source": [
    "O2 = np.array([13, 60, 95, 32])\n",
    "print(O2.sum())"
   ]
  },
  {
   "cell_type": "code",
   "execution_count": null,
   "id": "c964e9d6-7c6b-4c60-a308-4f5d684fc2a3",
   "metadata": {},
   "outputs": [],
   "source": [
    "fig,ax = plt.subplots()\n",
    "\n",
    "ax.set_xlim(-1,4)\n",
    "\n",
    "ax.set_xticks([0,1,2,3])\n",
    "ax.set_xlabel('# teste',fontsize=12)\n",
    "ax.set_ylabel(r'Conteggi $O$',fontsize=12)\n",
    "\n",
    "ax.bar([0,1,2,3],O2,ec='k',width=0.42,label='Conteggi $O_i$')\n",
    "ax.scatter([0,1,2,3],E,c='r',label='Attesi, $E_i$')\n",
    "\n",
    "ax.legend(loc='best')"
   ]
  },
  {
   "cell_type": "code",
   "execution_count": null,
   "id": "f4854242-86a8-415c-ac00-ec887064ea09",
   "metadata": {},
   "outputs": [],
   "source": [
    "chisq_o2 = np.sum((O2-E)**2/E)\n",
    "print(chisq_o2)"
   ]
  },
  {
   "cell_type": "code",
   "execution_count": null,
   "id": "b25ae0f7-1666-4664-83b4-1dfa9390396d",
   "metadata": {},
   "outputs": [],
   "source": [
    "1-chi2.cdf(chisq_o2, dof)"
   ]
  },
  {
   "cell_type": "markdown",
   "id": "479477ce-1954-42fd-919f-9bc4faa3e755",
   "metadata": {},
   "source": [
    "# Test di una distribuzione"
   ]
  },
  {
   "cell_type": "code",
   "execution_count": null,
   "id": "e4fa4f6a-81c3-4e29-a1cc-b596872d26fc",
   "metadata": {},
   "outputs": [],
   "source": [
    "norm_data = np.loadtxt('./data/dati_misure.dat',unpack=True)"
   ]
  },
  {
   "cell_type": "markdown",
   "id": "37f5d8fd-2f07-475e-8e18-84d9939a171f",
   "metadata": {},
   "source": [
    "Numero totale di dati $N$:"
   ]
  },
  {
   "cell_type": "code",
   "execution_count": null,
   "id": "8ccc98c1-733a-4f53-aad3-70c98f0327d6",
   "metadata": {},
   "outputs": [],
   "source": [
    "N = len(norm_data)\n",
    "print(N)"
   ]
  },
  {
   "cell_type": "code",
   "execution_count": null,
   "id": "7ada44b0-fb4f-4ca6-a43e-29796a263283",
   "metadata": {},
   "outputs": [],
   "source": [
    "Oi, bins = np.histogram(norm_data,bins=np.arange(-2.25,2.75,.5))\n",
    "print(bins)\n",
    "print(Oi)"
   ]
  },
  {
   "cell_type": "code",
   "execution_count": null,
   "id": "6f1fb9c7-0c9a-4725-b06c-a4bffc082b0d",
   "metadata": {},
   "outputs": [],
   "source": [
    "center_bins = np.sum(np.vstack([bins[:-1],bins[1:]]),axis=0)/2.\n",
    "print(center_bins)"
   ]
  },
  {
   "cell_type": "markdown",
   "id": "6155b30d-414f-4454-bd1f-0527c51c3c11",
   "metadata": {},
   "source": [
    "Il numero $n$ di *bin* in cui suddividiamo è"
   ]
  },
  {
   "cell_type": "code",
   "execution_count": null,
   "id": "ee36209f-212f-49f6-98a4-4ff3125d21f7",
   "metadata": {},
   "outputs": [],
   "source": [
    "n = len(center_bins)\n",
    "print(n)"
   ]
  },
  {
   "cell_type": "code",
   "execution_count": null,
   "id": "b8de50cb-15d8-4367-8f64-8b85f495af99",
   "metadata": {},
   "outputs": [],
   "source": [
    "fig,ax = plt.subplots()\n",
    "\n",
    "ax.set_xlim(-3,3)\n",
    "\n",
    "ax.set_xticks(center_bins)\n",
    "ax.set_xlabel('$z$',fontsize=12)\n",
    "ax.set_ylabel(r'Conteggi $O$',fontsize=12)\n",
    "\n",
    "ax.bar(center_bins,Oi,ec='k',width=0.42,label='Dati')\n",
    "\n",
    "ax.legend(loc='upper right')"
   ]
  },
  {
   "cell_type": "markdown",
   "id": "0da2b8fd-be2e-4acd-92f3-cd8b442bb80d",
   "metadata": {},
   "source": [
    "In ogni **bin** $i$ avviene un esperimento di conteggio: il numero di conteggi $O_i$ nel bin $i$ segue una statistica **poissoniana** con\n",
    "1) **valore medio** $E_i$\n",
    "2) **deviazione standard** $\\sqrt{E_i}$\n",
    "\n",
    "dove i valori $E_i$ sono i numeri di conteggi **attesi** nel bin $i$ *se è vera* l'ipotesi nulla."
   ]
  },
  {
   "cell_type": "markdown",
   "id": "ff0c4274-bd3e-4e6d-8a7b-f2f80d8b2adb",
   "metadata": {},
   "source": [
    "**Ipotesi nulla:** i valori conteggiati di $z$ seguono una distribuzione gaussiana di media $\\mu=0$ e $\\sigma=1$:\n",
    "\n",
    "$$\\textup{PDF}(z)=\\frac{1}{\\sqrt{2\\pi}}e^{-x^2}$$"
   ]
  },
  {
   "cell_type": "markdown",
   "id": "be38baec-1f04-425f-beb0-5d4a0b007e89",
   "metadata": {},
   "source": [
    "Il numero totale di conteggi che ci **aspettiamo** nel bin $i$ è quindi\n",
    "\n",
    "\\begin{align}\n",
    "E_i &= N\\int_{z_{i-1}}^{z_i}\\textup{PDF}(z)dz\\\\\n",
    "&= N\\left(\\int_{-\\infty}^{z_{i}}\\textup{PDF}(z)dz - \\int_{-\\infty}^{z_{i-1}}\\textup{PDF}(z)dz\\right)\\\\\n",
    "&= N\\,\\left[\\textup{CDF}(z_i)-\\textup{CDF}(z_{i-1})\\right]\n",
    "\\end{align}"
   ]
  },
  {
   "cell_type": "markdown",
   "id": "cd0fb212-72c3-4d80-84b7-4c00f4285e45",
   "metadata": {},
   "source": [
    "Se **nel bin** $O_i \\gtrsim 5$, la Poissoniana è ben approssimata da una distribuzione **Gaussiana**, quindi la variabile casuale $O_i$ è una variabile (approssimativamente) gaussiana."
   ]
  },
  {
   "cell_type": "code",
   "execution_count": null,
   "id": "35f1bc64-ff6e-4b0b-97fa-2b40d0bd4a9b",
   "metadata": {},
   "outputs": [],
   "source": [
    "cdfs = norm.cdf(bins)\n",
    "Ei = np.diff(cdfs)*N"
   ]
  },
  {
   "cell_type": "code",
   "execution_count": null,
   "id": "1a23e9c8-7da7-4500-b8b8-d24d5690ceb0",
   "metadata": {},
   "outputs": [],
   "source": [
    "fig,ax = plt.subplots()\n",
    "\n",
    "ax.set_xlim(-3,3)\n",
    "\n",
    "ax.set_xticks(center_bins)\n",
    "ax.set_xlabel('$z$',fontsize=12)\n",
    "ax.set_ylabel(r'Conteggi',fontsize=12)\n",
    "\n",
    "ax.bar(center_bins,Oi,ec='k',width=0.42,label='Osservati, $O_i$')\n",
    "ax.scatter(center_bins,Ei,c='r',label='Attesi, $E_i$')\n",
    "\n",
    "ax.legend(loc='upper right')"
   ]
  },
  {
   "cell_type": "markdown",
   "id": "b7d24f4d-a380-4315-b5ae-77986694568f",
   "metadata": {},
   "source": [
    "Possiamo valutare se i valori **attesi** $E_i$ si adattano bene ai **osservati** $O_i$ calcolando il $\\chi^2$:\n",
    "$$\n",
    "\\chi^2_o=\\sum_{i=1}^n \\frac{(O_i-E_i)^2}{E_i},\n",
    "$$\n",
    "dove $n=9$ è il numero di bin."
   ]
  },
  {
   "cell_type": "code",
   "execution_count": null,
   "id": "0b15965e-8724-4c71-bb83-6e17be6e5972",
   "metadata": {},
   "outputs": [],
   "source": [
    "dof = n-1\n",
    "print(dof)"
   ]
  },
  {
   "cell_type": "code",
   "execution_count": null,
   "id": "b075d8f8-332b-4842-9889-12f0940aec22",
   "metadata": {},
   "outputs": [],
   "source": [
    "chisq = np.sum((Oi-Ei)**2/Ei)\n",
    "print(chisq)"
   ]
  },
  {
   "cell_type": "code",
   "execution_count": null,
   "id": "f9e455a0-1e9e-42c8-bbc9-33cd0247dee8",
   "metadata": {},
   "outputs": [],
   "source": [
    "1-chi2.cdf(chisq,dof)"
   ]
  },
  {
   "cell_type": "code",
   "execution_count": null,
   "id": "4d1ad0e6-f037-4bc7-a258-98b34d9e2587",
   "metadata": {},
   "outputs": [],
   "source": []
  },
  {
   "cell_type": "markdown",
   "id": "22bf7a5b-2710-434f-9471-7c63aa05f6be",
   "metadata": {},
   "source": [
    "# Dadi truccati?"
   ]
  },
  {
   "cell_type": "markdown",
   "id": "d45b0431-5329-4ae8-9db7-c157add328bd",
   "metadata": {},
   "source": [
    "Lanciando 1000 volte **due dadi a 6 facce** si ottiengono i 1000 risultati raccolti nel file `./data/dadi.dat`.<br>\n",
    "Usando il test statistico del $\\chi^2$ possiamo concludere che il dado è truccato?"
   ]
  },
  {
   "cell_type": "code",
   "execution_count": null,
   "id": "c6b4c93e-1a8c-4790-b280-37f58ac33e11",
   "metadata": {},
   "outputs": [],
   "source": [
    "dadi = np.loadtxt('./data/dadi.dat')"
   ]
  },
  {
   "cell_type": "code",
   "execution_count": null,
   "id": "f04ade8a-aba3-4e61-b695-794aced976cf",
   "metadata": {},
   "outputs": [],
   "source": [
    "print(len(dadi))\n",
    "print(dadi)"
   ]
  },
  {
   "cell_type": "code",
   "execution_count": null,
   "id": "4d954dcd-b6eb-4a93-894d-2dd5d90674f2",
   "metadata": {},
   "outputs": [],
   "source": [
    "Oi, bins = np.histogram(dadi,np.arange(1.5,13))\n",
    "center_bins = np.arange(2,13)\n",
    "print(center_bins)"
   ]
  },
  {
   "cell_type": "code",
   "execution_count": null,
   "id": "18f71dae-6e6d-47dd-ab4c-11833e54667f",
   "metadata": {},
   "outputs": [],
   "source": [
    "fig,ax = plt.subplots()\n",
    "\n",
    "ax.set_xticks(range(2,13))\n",
    "ax.set_xlabel('Risultato',fontsize=12)\n",
    "ax.set_ylabel('Conteggi',fontsize=12)\n",
    "\n",
    "ax.bar(center_bins,Oi,ec='k')"
   ]
  },
  {
   "cell_type": "markdown",
   "id": "848c3775-55c3-4530-a447-5b9736178908",
   "metadata": {},
   "source": [
    "1) Quali sono i risultati che si possono ottenere lanciando 2 dadi a 6 facce?\n",
    "2) Quanti sono i **conteggi osservati** $O_i$ per ciascun risultato?"
   ]
  },
  {
   "cell_type": "markdown",
   "id": "01a80226-4ade-4ba0-8ba7-e98479a11a6e",
   "metadata": {},
   "source": [
    "**Ipotesi nulla:** i due dadi non sono truccati. Ciascuna faccia ha una probabilità 1/6.\n",
    "\n",
    "3) Qual è la probabilità teorica $P_i$ di ottenere ciascun risultato usando **due dadi non truccati**?\n",
    "4) Quali sono i **conteggi attesi** $E_i$ per ciascun risultato?\n",
    "5) Usando un test del $\\chi^2$ e scegliendo una significatività $\\alpha=5\\%$, possiamo **rigettare** l'ipotesi nulla?"
   ]
  },
  {
   "cell_type": "code",
   "execution_count": null,
   "id": "62d4df02-06fd-44a9-8bf0-896937b75ec4",
   "metadata": {},
   "outputs": [],
   "source": []
  }
 ],
 "metadata": {
  "kernelspec": {
   "display_name": "Python 3 (ipykernel)",
   "language": "python",
   "name": "python3"
  },
  "language_info": {
   "codemirror_mode": {
    "name": "ipython",
    "version": 3
   },
   "file_extension": ".py",
   "mimetype": "text/x-python",
   "name": "python",
   "nbconvert_exporter": "python",
   "pygments_lexer": "ipython3",
   "version": "3.11.8"
  },
  "widgets": {
   "application/vnd.jupyter.widget-state+json": {
    "state": {},
    "version_major": 2,
    "version_minor": 0
   }
  }
 },
 "nbformat": 4,
 "nbformat_minor": 5
}
